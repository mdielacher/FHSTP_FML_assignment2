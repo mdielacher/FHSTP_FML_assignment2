{
 "cells": [
  {
   "cell_type": "markdown",
   "metadata": {},
   "source": [
    "# Pre-processing - Notebook"
   ]
  },
  {
   "cell_type": "markdown",
   "metadata": {},
   "source": [
    "In this Jupyter Notebook, we will focus on preprocessing steps to mitigate overfitting in our dataset. To address this issue, we will perform some common preprocessing techniques, such as dropping columns and replacing certain values."
   ]
  },
  {
   "cell_type": "markdown",
   "metadata": {},
   "source": [
    "## Imports"
   ]
  },
  {
   "cell_type": "code",
   "execution_count": 1,
   "metadata": {},
   "outputs": [
    {
     "name": "stderr",
     "output_type": "stream",
     "text": [
      "/var/folders/08/8s3n2f895zgg2psmtlmnblh80000gn/T/ipykernel_48605/4080736814.py:1: DeprecationWarning: \n",
      "Pyarrow will become a required dependency of pandas in the next major release of pandas (pandas 3.0),\n",
      "(to allow more performant data types, such as the Arrow string type, and better interoperability with other libraries)\n",
      "but was not found to be installed on your system.\n",
      "If this would cause problems for you,\n",
      "please provide us feedback at https://github.com/pandas-dev/pandas/issues/54466\n",
      "        \n",
      "  import pandas as pd\n"
     ]
    }
   ],
   "source": [
    "import pandas as pd"
   ]
  },
  {
   "cell_type": "markdown",
   "metadata": {},
   "source": [
    "## Data loading"
   ]
  },
  {
   "cell_type": "code",
   "execution_count": 2,
   "metadata": {},
   "outputs": [],
   "source": [
    "df_bank_a = pd.read_csv('../data/BankA.csv')\n",
    "df_bank_b = pd.read_csv('../data/BankB.csv')\n",
    "df_bank_c = pd.read_csv('../data/BankC.csv')"
   ]
  },
  {
   "cell_type": "code",
   "execution_count": 3,
   "metadata": {},
   "outputs": [],
   "source": [
    "df_all = pd.concat([df_bank_a, df_bank_b, df_bank_c])"
   ]
  },
  {
   "cell_type": "markdown",
   "metadata": {},
   "source": [
    "## Functions"
   ]
  },
  {
   "cell_type": "code",
   "execution_count": 4,
   "metadata": {},
   "outputs": [],
   "source": [
    "def pre_processing(df: pd.DataFrame):\n",
    "    df = df.apply(lambda x: x.str.strip() if x.dtype == \"object\" else x)\n",
    "\n",
    "    # Workclass\n",
    "    df['workclass'] = df['workclass'].replace(['Never-worked', 'Without-pay'], 'Not-working')\n",
    "    df['workclass'] = df['workclass'].replace(['?', '*'], 'unknown')\n",
    "\n",
    "    # marital-status\n",
    "    df['marital-status'] = df['marital-status'].replace(['Married-civ-spouse', 'Married-AF-spouse'], 'Married')\n",
    "\n",
    "    #occupation\n",
    "    df['occupation'] = df['occupation'].replace(['Exec-managerial', 'Prof-specialty'], 'high')\n",
    "    df['occupation'] = df['occupation'].replace(['Armed-Forces', 'Protective-serv', 'Tech-support', 'Sales', 'Craft-repair', 'Transport-moving'], 'medium')\n",
    "    df['occupation'] = df['occupation'].replace(['Adm-clerical', 'Machine-op-inspct', 'Farming-fishing', 'Handlers-cleaners', 'Other-service', 'Priv-house-serv'], 'low')\n",
    "    df['occupation'] = df['occupation'].replace(['?', '*'], 'unknown')\n",
    "\n",
    "    #relationship\n",
    "    df['relationship'] = df['relationship'].replace(['Husband', 'Wife'], 'Parent')\n",
    "\n",
    "    # native-country\n",
    "    df['native-country'] = df['native-country'].str.strip()\n",
    "    df['native-country'] = df['native-country'].replace(['United-States', 'Puerto-Rico', 'Canada', 'Outlying-US(Guam-USVI-etc)', 'Cuba', 'Jamaica', 'Mexico', 'Dominican-Republic', 'El-Salvador', 'Guatemala', 'Haiti', 'Honduras', 'Nicaragua', 'Trinadad&Tobago', 'Peru', 'Ecuador', 'Columbia', 'Honduras', 'Haiti', 'Guatemala', 'El-Salvador', 'Dominican-Republic', 'Columbia', 'Ecuador', 'Peru', 'Jamaica', 'Mexico', 'Puerto-Rico', 'Cuba', 'Outlying-US(Guam-USVI-etc)', 'Canada', 'United-States'], 'North-America')\n",
    "    df['native-country'] = df['native-country'].replace(['Germany', 'England', 'Italy', 'Poland', 'Portugal', 'Ireland', 'France', 'Yugoslavia', 'Scotland', 'Greece', 'Hungary', 'Holand-Netherlands'], 'Europe')\n",
    "    df['native-country'] = df['native-country'].replace(['Philippines', 'India', 'China', 'Japan', 'Vietnam', 'Taiwan', 'Iran', 'Thailand', 'Hong', 'Cambodia', 'Laos'], 'Asia')\n",
    "    df['native-country'] = df['native-country'].replace(['South', 'Columbia', 'Ecuador', 'Peru'], 'South-America')\n",
    "    df['native-country'] = df['native-country'].replace(['Trinadad&Tobago', 'Honduras', 'Haiti', 'Guatemala', 'El-Salvador', 'Dominican-Republic', 'Columbia', 'Ecuador', 'Peru'], 'Central-America')\n",
    "    df['native-country'] = df['native-country'].replace(['?', '*'], 'Unknown')\n",
    "\n",
    "    # education\n",
    "    df['education'] = df['education'].replace(['Preschool', '1st-4th', '5th-6th', '7th-8th', '9th', '10th', '11th', '12th'], 'school')\n",
    "    df['education'] = df['education'].replace(['Assoc-voc', 'Assoc-acdm', 'Prof-school', 'Some-college'], 'higher')\n",
    "\n",
    "    # capital-diff'\n",
    "    df['capital-diff'] = df['capital-gain'] - df['capital-loss']\n",
    "\n",
    "    # race\n",
    "    df['race'] = df['race'].replace(['Black', 'Asian-Pac-Islander', 'Amer-Indian-Eskimo', 'Other'], 'Other')\n",
    "\n",
    "    # Drop the fnlwgt column\n",
    "    df.drop(['fnlwgt'], axis=1, inplace=True)\n",
    "\n",
    "    # Drop education-num column\n",
    "    df.drop(['educational-num'], axis=1, inplace=True)\n",
    "\n",
    "    # Drop the gender column\n",
    "    df.drop(['gender'], axis=1, inplace=True)\n",
    "\n",
    "    # Drop the race column\n",
    "    df.drop('race', axis=1, inplace=True)\n",
    "\n",
    "    # Drop the capital-gain column\n",
    "    df.drop('capital-gain', axis=1, inplace=True)\n",
    "\n",
    "    # Drop the capital-loss column\n",
    "    df.drop('capital-loss', axis=1, inplace=True)\n",
    "\n",
    "    # replace income by 0 and 1\n",
    "    df['income'] = df['income'].map({'<=50K': 0, '>50K': 1})\n",
    "\n",
    "    return df"
   ]
  },
  {
   "cell_type": "markdown",
   "metadata": {},
   "source": [
    "## Pre-Processing"
   ]
  },
  {
   "cell_type": "code",
   "execution_count": 5,
   "metadata": {},
   "outputs": [],
   "source": [
    "df_bank_a = pre_processing(df_bank_a)\n",
    "df_bank_b = pre_processing(df_bank_b)\n",
    "df_bank_c = pre_processing(df_bank_c)\n",
    "df_all = pre_processing(df_all)"
   ]
  },
  {
   "cell_type": "code",
   "execution_count": null,
   "metadata": {},
   "outputs": [],
   "source": [
    "df_bank_a.to_csv('../data/BankA_preprocessed.csv', index=False)\n",
    "df_bank_b.to_csv('../data/BankB_preprocessed.csv', index=False)\n",
    "df_bank_c.to_csv('../data/BankC_preprocessed.csv', index=False)\n",
    "df_all.to_csv('../data/BankABC_preprocessed.csv', index=False)"
   ]
  }
 ],
 "metadata": {
  "kernelspec": {
   "display_name": "Python 3.9.6 ('venv': venv)",
   "language": "python",
   "name": "python3"
  },
  "language_info": {
   "codemirror_mode": {
    "name": "ipython",
    "version": 3
   },
   "file_extension": ".py",
   "mimetype": "text/x-python",
   "name": "python",
   "nbconvert_exporter": "python",
   "pygments_lexer": "ipython3",
   "version": "3.9.6"
  },
  "orig_nbformat": 4,
  "vscode": {
   "interpreter": {
    "hash": "ed2f6b002986ac2c7a6fa49d8fd309335f6e2a10de63f41f25f4c612669896a6"
   }
  }
 },
 "nbformat": 4,
 "nbformat_minor": 2
}
