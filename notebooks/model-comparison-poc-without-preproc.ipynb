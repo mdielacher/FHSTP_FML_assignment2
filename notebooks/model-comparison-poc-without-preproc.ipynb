{
 "cells": [
  {
   "cell_type": "code",
   "execution_count": 1,
   "metadata": {},
   "outputs": [],
   "source": [
    "import pandas as pd\n",
    "import numpy as np\n",
    "\n",
    "from sklearn.tree import DecisionTreeClassifier\n",
    "from sklearn.linear_model import LogisticRegression\n",
    "from sklearn.ensemble import RandomForestClassifier, GradientBoostingClassifier\n",
    "from sklearn.neural_network import MLPClassifier\n",
    "from sklearn.model_selection import RandomizedSearchCV, train_test_split\n",
    "\n",
    "from sklearn.metrics import accuracy_score, f1_score, cohen_kappa_score\n",
    "from sklearn.base import clone\n",
    "\n",
    "import seaborn as sns\n",
    "import matplotlib.pyplot as plt\n",
    "import joblib\n",
    "import warnings\n",
    "\n",
    "warnings.filterwarnings(\"ignore\")"
   ]
  },
  {
   "cell_type": "code",
   "execution_count": 2,
   "metadata": {},
   "outputs": [],
   "source": [
    "# Set a seed for reproducibility\n",
    "seed_value = 42\n",
    "import random\n",
    "random.seed(seed_value)\n",
    "import numpy as np\n",
    "np.random.seed(seed_value)"
   ]
  },
  {
   "cell_type": "markdown",
   "metadata": {},
   "source": [
    "## Data Loading"
   ]
  },
  {
   "cell_type": "code",
   "execution_count": 3,
   "metadata": {},
   "outputs": [],
   "source": [
    "df_bank_a = pd.read_csv('../data/BankA_preprocessed.csv')\n",
    "df_bank_b = pd.read_csv('../data/BankB_preprocessed.csv')\n",
    "df_bank_c = pd.read_csv('../data/BankC_preprocessed.csv')"
   ]
  },
  {
   "cell_type": "code",
   "execution_count": 4,
   "metadata": {},
   "outputs": [],
   "source": [
    "df_all = pd.concat([df_bank_a, df_bank_b, df_bank_c])"
   ]
  },
  {
   "cell_type": "markdown",
   "metadata": {},
   "source": [
    "## Data Preprocessing"
   ]
  },
  {
   "cell_type": "markdown",
   "metadata": {},
   "source": [
    "### Create bins for age"
   ]
  },
  {
   "cell_type": "code",
   "execution_count": 5,
   "metadata": {},
   "outputs": [],
   "source": [
    "# Convert age in bins of 10 years\n",
    "df_all['age'] = pd.cut(df_all['age'], bins=[0, 20, 30, 40, 50, 60, 70, 80, 90, 100], labels=['0-20', '20-30', '30-40', '40-50', '50-60', '60-70', '70-80', '80-90', '>90'])\n",
    "df_bank_a['age'] = pd.cut(df_bank_a['age'], bins=[0, 20, 30, 40, 50, 60, 70, 80, 90, 100], labels=['0-20', '20-30', '30-40', '40-50', '50-60', '60-70', '70-80', '80-90', '>90'])\n",
    "df_bank_b['age'] = pd.cut(df_bank_b['age'], bins=[0, 20, 30, 40, 50, 60, 70, 80, 90, 100], labels=['0-20', '20-30', '30-40', '40-50', '50-60', '60-70', '70-80', '80-90', '>90'])\n",
    "df_bank_c['age'] = pd.cut(df_bank_c['age'], bins=[0, 20, 30, 40, 50, 60, 70, 80, 90, 100], labels=['0-20', '20-30', '30-40', '40-50', '50-60', '60-70', '70-80', '80-90', '>90'])"
   ]
  },
  {
   "cell_type": "markdown",
   "metadata": {},
   "source": [
    "### Target Column"
   ]
  },
  {
   "cell_type": "code",
   "execution_count": 6,
   "metadata": {},
   "outputs": [],
   "source": [
    "# One-hot encode the categorical columns\n",
    "categorical_columns = df_all.select_dtypes(include=['object']).columns\n",
    "categorical_columns = categorical_columns.append(pd.Index(['age']))\n",
    "df_all = pd.get_dummies(df_all, columns=categorical_columns)\n",
    "\n",
    "# One-hot encode the categorical columns\n",
    "categorical_columns = df_bank_a.select_dtypes(include=['object']).columns\n",
    "categorical_columns = categorical_columns.append(pd.Index(['age']))\n",
    "df_bank_a = pd.get_dummies(df_bank_a, columns=categorical_columns)\n",
    "\n",
    "# One-hot encode the categorical columns\n",
    "categorical_columns = df_bank_b.select_dtypes(include=['object']).columns\n",
    "categorical_columns = categorical_columns.append(pd.Index(['age']))\n",
    "df_bank_b = pd.get_dummies(df_bank_b, columns=categorical_columns)\n",
    "\n",
    "# One-hot encode the categorical columns\n",
    "categorical_columns = df_bank_c.select_dtypes(include=['object']).columns\n",
    "categorical_columns = categorical_columns.append(pd.Index(['age']))\n",
    "df_bank_c = pd.get_dummies(df_bank_c, columns=categorical_columns)"
   ]
  },
  {
   "cell_type": "markdown",
   "metadata": {},
   "source": [
    "## Model Training"
   ]
  },
  {
   "cell_type": "markdown",
   "metadata": {},
   "source": [
    "### Data Splitting for Training and Testing"
   ]
  },
  {
   "cell_type": "code",
   "execution_count": 7,
   "metadata": {},
   "outputs": [
    {
     "name": "stdout",
     "output_type": "stream",
     "text": [
      "Number of rows in df_all:    799999\n",
      "Number of rows in df_bank_a: 226164\n",
      "Number of rows in df_bank_b: 403240\n",
      "Number of rows in df_bank_c: 170595\n"
     ]
    }
   ],
   "source": [
    "# number of rows in each dataset\n",
    "print(f\"Number of rows in df_all:    {len(df_all)}\")\n",
    "print(f\"Number of rows in df_bank_a: {len(df_bank_a)}\")\n",
    "print(f\"Number of rows in df_bank_b: {len(df_bank_b)}\")\n",
    "print(f\"Number of rows in df_bank_c: {len(df_bank_c)}\")"
   ]
  },
  {
   "cell_type": "code",
   "execution_count": 8,
   "metadata": {},
   "outputs": [],
   "source": [
    "# Create a test set that contains 20% of the data from each bank\n",
    "df_bank_a_test = df_bank_a.sample(frac=0.2, random_state=seed_value)\n",
    "df_bank_b_test = df_bank_b.sample(frac=0.2, random_state=seed_value)\n",
    "df_bank_c_test = df_bank_c.sample(frac=0.2, random_state=seed_value)\n",
    "\n",
    "# Create a training set that contains the remaining 80% of the data from each bank\n",
    "df_bank_a_train = df_bank_a.drop(df_bank_a_test.index)\n",
    "df_bank_b_train = df_bank_b.drop(df_bank_b_test.index)\n",
    "df_bank_c_train = df_bank_c.drop(df_bank_c_test.index)\n",
    "\n",
    "# Combine the training sets into one training set\n",
    "df_train = pd.concat([df_bank_a_train, df_bank_b_train, df_bank_c_train])\n",
    "\n",
    "# Combine the test sets into one test set\n",
    "df_test = pd.concat([df_bank_a_test, df_bank_b_test, df_bank_c_test])"
   ]
  },
  {
   "cell_type": "code",
   "execution_count": 9,
   "metadata": {},
   "outputs": [],
   "source": [
    "# Split the training and test sets into X and y\n",
    "X_train = df_train.drop('income', axis=1)\n",
    "y_train = df_train['income']\n",
    "X_test = df_test.drop('income', axis=1)\n",
    "y_test = df_test['income']\n",
    "\n",
    "X_train_bank_a = df_bank_a_train.drop('income', axis=1)\n",
    "y_train_bank_a = df_bank_a_train['income']\n",
    "X_test_bank_a = df_bank_a_test.drop('income', axis=1)\n",
    "y_test_bank_a = df_bank_a_test['income']\n",
    "\n",
    "X_train_bank_b = df_bank_b_train.drop('income', axis=1)\n",
    "y_train_bank_b = df_bank_b_train['income']\n",
    "X_test_bank_b = df_bank_b_test.drop('income', axis=1)\n",
    "y_test_bank_b = df_bank_b_test['income']\n",
    "\n",
    "X_train_bank_c = df_bank_c_train.drop('income', axis=1)\n",
    "y_train_bank_c = df_bank_c_train['income']\n",
    "X_test_bank_c = df_bank_c_test.drop('income', axis=1)\n",
    "y_test_bank_c = df_bank_c_test['income']"
   ]
  },
  {
   "cell_type": "code",
   "execution_count": 10,
   "metadata": {},
   "outputs": [
    {
     "data": {
      "image/png": "[encoded data removed]",
      "text/plain": [
       "<Figure size 1000x500 with 1 Axes>"
      ]
     },
     "metadata": {},
     "output_type": "display_data"
    }
   ],
   "source": [
    "df_sample_count = pd.DataFrame({'Bank': ['Bank A', 'Bank B', 'Bank C', 'All'], 'Train': [len(df_bank_a_train), len(df_bank_b_train), len(df_bank_c_train), len(df_train)], 'Test': [len(df_bank_a_test), len(df_bank_b_test), len(df_bank_c_test), len(df_test)]})\n",
    "df_sample_count = df_sample_count.set_index('Bank')\n",
    "df_sample_count = df_sample_count.rename(index={'Bank A': 'Data Bank A', 'Bank B': 'Data Bank B', 'Bank C': 'Data Bank C', 'All': 'All Data'})\n",
    "\n",
    "df_sample_count.plot.barh(stacked=True, figsize=(10, 5), title='80/20 split of training and test data')\n",
    "plt.rcParams['axes.prop_cycle'] = plt.cycler(color=plt.cm.Set2.colors)\n",
    "plt.gca().invert_yaxis()\n",
    "plt.ylabel('')\n",
    "plt.xlabel('Number of samples')\n",
    "plt.show()"
   ]
  },
  {
   "cell_type": "markdown",
   "metadata": {},
   "source": [
    "### Model Training"
   ]
  },
  {
   "cell_type": "code",
   "execution_count": 14,
   "metadata": {},
   "outputs": [],
   "source": [
    "N_ITER=1\n",
    "CV=2"
   ]
  },
  {
   "cell_type": "markdown",
   "metadata": {},
   "source": [
    "#### Finding good hyperparameters for different models"
   ]
  },
  {
   "cell_type": "code",
   "execution_count": 15,
   "metadata": {},
   "outputs": [
    {
     "name": "stdout",
     "output_type": "stream",
     "text": [
      "{'min_samples_split': 14, 'min_samples_leaf': 10, 'max_features': 4, 'max_depth': 14, 'criterion': 'entropy'}\n",
      "0.8143887594619437\n",
      "DecisionTreeClassifier(criterion='entropy', max_depth=14, max_features=4,\n",
      "                       min_samples_leaf=10, min_samples_split=14,\n",
      "                       random_state=42)\n"
     ]
    }
   ],
   "source": [
    "# Find the best hyperparameters for a decision tree classifier\n",
    "\n",
    "# Create a decision tree classifier\n",
    "clf_dt = DecisionTreeClassifier(random_state=seed_value)\n",
    "\n",
    "# Define the grid search parameters\n",
    "param_grid_dt = {\n",
    "    'criterion': ['gini', 'entropy'],\n",
    "    'max_depth': [2, 4, 6, 8, 10, 12, 14, 16],\n",
    "    'min_samples_split': [2, 4, 6, 8, 10, 12, 14, 16],\n",
    "    'min_samples_leaf': [2, 4, 6, 8, 10, 12, 14, 16],\n",
    "    'max_features': [2, 4, 6, 8, 10, 12, 14, 16]\n",
    "}\n",
    "\n",
    "grid_search_dt = RandomizedSearchCV(estimator=clf_dt, n_iter=N_ITER, param_distributions=param_grid_dt, cv=CV, n_jobs=-1, verbose=0)\n",
    "\n",
    "# Train the grid search object to find the best model and the best hyperparameters\n",
    "grid_search_dt.fit(X_train, y_train)\n",
    "\n",
    "# Print the best hyperparameters\n",
    "print(grid_search_dt.best_params_)\n",
    "print(grid_search_dt.best_score_)\n",
    "print(grid_search_dt.best_estimator_)"
   ]
  },
  {
   "cell_type": "code",
   "execution_count": 16,
   "metadata": {},
   "outputs": [
    {
     "name": "stdout",
     "output_type": "stream",
     "text": [
      "{'solver': 'liblinear', 'penalty': 'l1', 'max_iter': 1000, 'C': 0.001}\n",
      "0.8107793615224188\n",
      "LogisticRegression(C=0.001, max_iter=1000, penalty='l1', random_state=42,\n",
      "                   solver='liblinear')\n"
     ]
    }
   ],
   "source": [
    "# Find the best hyperparameters for a logistic regression classifier\n",
    "\n",
    "# Create a logistic regression classifier\n",
    "clf_lr = LogisticRegression(random_state=seed_value)\n",
    "\n",
    "# Define the grid search parameters\n",
    "param_grid_lg = {\n",
    "    'penalty': ['l1', 'l2'],\n",
    "    'C': [0.001, 0.01, 0.1, 1, 10, 100],\n",
    "    'solver': ['liblinear', 'saga'],\n",
    "    'max_iter': [500, 1000, 2000],\n",
    "}\n",
    "\n",
    "grid_search_lg = RandomizedSearchCV(estimator=clf_lr, n_iter=N_ITER, param_distributions=param_grid_lg, cv=CV, n_jobs=-1, verbose=0)\n",
    "\n",
    "# Train the grid search object to find the best model and the best hyperparameters\n",
    "grid_search_lg.fit(X_train, y_train)\n",
    "\n",
    "# Print the best hyperparameters\n",
    "print(grid_search_lg.best_params_)\n",
    "print(grid_search_lg.best_score_)\n",
    "print(grid_search_lg.best_estimator_)"
   ]
  },
  {
   "cell_type": "code",
   "execution_count": 17,
   "metadata": {},
   "outputs": [
    {
     "name": "stdout",
     "output_type": "stream",
     "text": [
      "{'n_estimators': 3, 'min_samples_split': 1024, 'min_samples_leaf': 128, 'max_features': 4, 'max_depth': 12, 'criterion': 'entropy'}\n",
      "0.8158496876552739\n",
      "RandomForestClassifier(criterion='entropy', max_depth=12, max_features=4,\n",
      "                       min_samples_leaf=128, min_samples_split=1024,\n",
      "                       n_estimators=3, random_state=42)\n"
     ]
    }
   ],
   "source": [
    "# Find the best hyperparameters for a random forest classifier\n",
    "\n",
    "# Create a random forest classifier\n",
    "clf_rf = RandomForestClassifier(random_state=seed_value)\n",
    "\n",
    "# Define the grid search parameters\n",
    "param_grid_rf = {\n",
    "    'n_estimators': [3, 5, 7, 9],\n",
    "    'criterion': ['gini', 'entropy'],\n",
    "    'max_depth': [2, 10, 12, 14, 16, 32],\n",
    "    'min_samples_split': [10, 32, 128, 256, 512, 1024],\n",
    "    'min_samples_leaf': [16, 32, 64, 128, 256],\n",
    "    'max_features': [2, 4, 6, 8, 10, 12, 14, 16]\n",
    "}\n",
    "\n",
    "grid_search_rf = RandomizedSearchCV(estimator=clf_rf, n_iter=N_ITER, param_distributions=param_grid_rf, cv=CV, n_jobs=-1, verbose=0)\n",
    "\n",
    "# Train the grid search object to find the best model and the best hyperparameters\n",
    "grid_search_rf.fit(X_train, y_train)\n",
    "\n",
    "# Print the best hyperparameters\n",
    "print(grid_search_rf.best_params_)\n",
    "print(grid_search_rf.best_score_)\n",
    "print(grid_search_rf.best_estimator_)"
   ]
  },
  {
   "cell_type": "code",
   "execution_count": 18,
   "metadata": {},
   "outputs": [
    {
     "name": "stdout",
     "output_type": "stream",
     "text": [
      "{'n_estimators': 100, 'min_samples_split': 32, 'min_samples_leaf': 16, 'max_features': 8, 'max_depth': 10, 'learning_rate': 0.1}\n",
      "0.8410262968351073\n",
      "GradientBoostingClassifier(max_depth=10, max_features=8, min_samples_leaf=16,\n",
      "                           min_samples_split=32, random_state=42)\n"
     ]
    }
   ],
   "source": [
    "# Find the best hyperparameters for a gradient boosting classifier\n",
    "\n",
    "# Create a gradient boosting classifier\n",
    "clf_gb = GradientBoostingClassifier(random_state=seed_value)\n",
    "\n",
    "# Define the grid search parameters\n",
    "param_grid_gb = {\n",
    "    'n_estimators': [3, 9, 50, 100, 200, 500],\n",
    "    'learning_rate': [0.001, 0.01, 0.1, 1, 10, 100],\n",
    "    'max_depth': [2, 4, 6, 8, 10, 12, 36],\n",
    "    'min_samples_split': [10, 12, 14, 16, 32, 128],\n",
    "    'min_samples_leaf': [16, 32, 64, 128, 256],\n",
    "    'max_features': [2, 4, 6, 8, 16, 20, 32]\n",
    "}\n",
    "\n",
    "grid_search_gb = RandomizedSearchCV(estimator=clf_gb, n_iter=N_ITER, param_distributions=param_grid_gb, cv=CV, n_jobs=-1, verbose=0)\n",
    "\n",
    "# Train the grid search object to find the best model and the best hyperparameters\n",
    "grid_search_gb.fit(X_train, y_train)\n",
    "\n",
    "# Print the best hyperparameters\n",
    "print(grid_search_gb.best_params_)\n",
    "print(grid_search_gb.best_score_)\n",
    "print(grid_search_gb.best_estimator_)"
   ]
  },
  {
   "cell_type": "code",
   "execution_count": 11,
   "metadata": {},
   "outputs": [
    {
     "name": "stdout",
     "output_type": "stream",
     "text": [
      "{'solver': 'sgd', 'max_iter': 300, 'learning_rate_init': 0.01, 'learning_rate': 'constant', 'hidden_layer_sizes': (50,), 'batch_size': 128, 'alpha': 0.0001, 'activation': 'tanh'}\n",
      "0.802237206418605\n",
      "MLPClassifier(activation='tanh', batch_size=128, hidden_layer_sizes=(50,),\n",
      "              learning_rate_init=0.01, max_iter=300, random_state=42,\n",
      "              solver='sgd')\n"
     ]
    }
   ],
   "source": [
    "# # Find the best hyperparameters for a MLP classifier\n",
    "\n",
    "# # Create an MLP classifier\n",
    "# clf_mlp = MLPClassifier(random_state=seed_value)\n",
    "\n",
    "# # Define the grid search parameters\n",
    "# param_grid_mlp = {\n",
    "#     'hidden_layer_sizes': [(50, 30), (50,), (100,), (50, 50), (100, 50)],\n",
    "#     'activation': ['tanh', 'relu'],\n",
    "#     'solver': ['sgd', 'adam'],\n",
    "#     'alpha': [0.0001, 0.001, 0.01],\n",
    "#     'learning_rate': ['constant', 'adaptive'],\n",
    "#     'max_iter': [200, 300],\n",
    "#     'learning_rate_init': [0.001, 0.01],\n",
    "#     'batch_size': [64, 128]\n",
    "# }\n",
    "\n",
    "# grid_search_mlp = RandomizedSearchCV(estimator=clf_mlp, n_iter=N_ITER, param_distributions=param_grid_mlp, cv=CV, n_jobs=-1, verbose=0)\n",
    "\n",
    "# # Train the grid search object to find the best model and the best hyperparameters\n",
    "# grid_search_mlp.fit(X_train, y_train)\n",
    "\n",
    "# # Print the best hyperparameters\n",
    "# print(grid_search_mlp.best_params_)\n",
    "# print(grid_search_mlp.best_score_)\n",
    "# print(grid_search_mlp.best_estimator_)"
   ]
  },
  {
   "cell_type": "code",
   "execution_count": 11,
   "metadata": {},
   "outputs": [],
   "source": [
    "# Define the best models with the best hyperparameters\n",
    "dt_model = DecisionTreeClassifier(\n",
    "    criterion=\"entropy\",\n",
    "    max_depth=14,\n",
    "    max_features=14,\n",
    "    min_samples_leaf=14,\n",
    "    min_samples_split=8,\n",
    "    random_state=42,\n",
    ")\n",
    "lg_model = LogisticRegression(\n",
    "    C=0.001, max_iter=2000, random_state=42, solver=\"liblinear\"\n",
    ")\n",
    "rf_model = RandomForestClassifier(\n",
    "    criterion=\"entropy\",\n",
    "    max_depth=12,\n",
    "    max_features=16,\n",
    "    min_samples_leaf=16,\n",
    "    min_samples_split=128,\n",
    "    n_estimators=5,\n",
    "    random_state=42,\n",
    ")\n",
    "gb_model = GradientBoostingClassifier(\n",
    "    max_depth=10, max_features=8, min_samples_leaf=16, min_samples_split=32\n",
    ")"
   ]
  },
  {
   "cell_type": "code",
   "execution_count": 12,
   "metadata": {},
   "outputs": [],
   "source": [
    "# Define and Train the models with the best hyperparameters\n",
    "model_global_dt = clone(dt_model).fit(X_train, y_train)\n",
    "model_global_lg = clone(lg_model).fit(X_train, y_train)\n",
    "model_global_rf = clone(rf_model).fit(X_train, y_train)\n",
    "model_global_gb = clone(gb_model).fit(X_train, y_train)\n",
    "# model_global_mlp = clone(grid_search_mlp.best_estimator_).fit(X_train, y_train)\n",
    "\n",
    "model_bank_a_dt = clone(dt_model).fit(X_train_bank_a, y_train_bank_a)\n",
    "model_bank_a_lg = clone(lg_model).fit(X_train_bank_a, y_train_bank_a)\n",
    "model_bank_a_rf = clone(rf_model).fit(X_train_bank_a, y_train_bank_a)\n",
    "model_bank_a_gb = clone(gb_model).fit(X_train_bank_a, y_train_bank_a)\n",
    "# model_bank_a_mlp = clone(grid_search_mlp.best_estimator_).fit(X_train_bank_a, y_train_bank_a)\n",
    "\n",
    "model_bank_b_dt = clone(dt_model).fit(X_train_bank_b, y_train_bank_b)\n",
    "model_bank_b_lg = clone(lg_model).fit(X_train_bank_b, y_train_bank_b)\n",
    "model_bank_b_rf = clone(rf_model).fit(X_train_bank_b, y_train_bank_b)\n",
    "model_bank_b_gb = clone(gb_model).fit(X_train_bank_b, y_train_bank_b)\n",
    "# model_bank_b_mlp = clone(grid_search_mlp.best_estimator_).fit(X_train_bank_b, y_train_bank_b)\n",
    "\n",
    "model_bank_c_dt = clone(dt_model).fit(X_train_bank_c, y_train_bank_c)\n",
    "model_bank_c_lg = clone(lg_model).fit(X_train_bank_c, y_train_bank_c)\n",
    "model_bank_c_rf = clone(rf_model).fit(X_train_bank_c, y_train_bank_c)\n",
    "model_bank_c_gb = clone(gb_model).fit(X_train_bank_c, y_train_bank_c)\n",
    "# model_bank_c_mlp = clone(grid_search_mlp.best_estimator_).fit(X_train_bank_c, y_train_bank_c)"
   ]
  },
  {
   "cell_type": "markdown",
   "metadata": {},
   "source": [
    "#### Train a model with all data from all banks"
   ]
  },
  {
   "cell_type": "code",
   "execution_count": null,
   "metadata": {},
   "outputs": [],
   "source": [
    "# # Define and Train the models with the best hyperparameters\n",
    "# model_global_dt = clone(grid_search_dt.best_estimator_).fit(X_train, y_train)\n",
    "# model_global_lg = clone(grid_search_lg.best_estimator_).fit(X_train, y_train)\n",
    "# model_global_rf = clone(grid_search_rf.best_estimator_).fit(X_train, y_train)\n",
    "# model_global_gb = clone(grid_search_gb.best_estimator_).fit(X_train, y_train)\n",
    "# # model_global_mlp = clone(grid_search_mlp.best_estimator_).fit(X_train, y_train)\n",
    "\n",
    "# model_bank_a_dt = clone(grid_search_dt.best_estimator_).fit(X_train_bank_a, y_train_bank_a)\n",
    "# model_bank_a_lg = clone(grid_search_lg.best_estimator_).fit(X_train_bank_a, y_train_bank_a)\n",
    "# model_bank_a_rf = clone(grid_search_rf.best_estimator_).fit(X_train_bank_a, y_train_bank_a)\n",
    "# model_bank_a_gb = clone(grid_search_gb.best_estimator_).fit(X_train_bank_a, y_train_bank_a)\n",
    "# # model_bank_a_mlp = clone(grid_search_mlp.best_estimator_).fit(X_train_bank_a, y_train_bank_a)\n",
    "\n",
    "# model_bank_b_dt = clone(grid_search_dt.best_estimator_).fit(X_train_bank_b, y_train_bank_b)\n",
    "# model_bank_b_lg = clone(grid_search_lg.best_estimator_).fit(X_train_bank_b, y_train_bank_b)\n",
    "# model_bank_b_rf = clone(grid_search_rf.best_estimator_).fit(X_train_bank_b, y_train_bank_b)\n",
    "# model_bank_b_gb = clone(grid_search_gb.best_estimator_).fit(X_train_bank_b, y_train_bank_b)\n",
    "# # model_bank_b_mlp = clone(grid_search_mlp.best_estimator_).fit(X_train_bank_b, y_train_bank_b)\n",
    "\n",
    "# model_bank_c_dt = clone(grid_search_dt.best_estimator_).fit(X_train_bank_c, y_train_bank_c)\n",
    "# model_bank_c_lg = clone(grid_search_lg.best_estimator_).fit(X_train_bank_c, y_train_bank_c)\n",
    "# model_bank_c_rf = clone(grid_search_rf.best_estimator_).fit(X_train_bank_c, y_train_bank_c)\n",
    "# model_bank_c_gb = clone(grid_search_gb.best_estimator_).fit(X_train_bank_c, y_train_bank_c)\n",
    "# # model_bank_c_mlp = clone(grid_search_mlp.best_estimator_).fit(X_train_bank_c, y_train_bank_c)"
   ]
  },
  {
   "cell_type": "code",
   "execution_count": 23,
   "metadata": {},
   "outputs": [],
   "source": [
    "# Export the trained models\n",
    "# joblib.dump(model_global_dt, './models/model_global_dt.pkl')\n",
    "# joblib.dump(model_global_lg, './models/model_global_lg.pkl')\n",
    "# joblib.dump(model_global_rf, './models/model_global_rf.pkl')\n",
    "# joblib.dump(model_global_gb, './models/model_global_gb.pkl')\n",
    "# joblib.dump(model_global_mlp, './models/model_global_mlp.pkl')\n",
    "\n",
    "# joblib.dump(model_bank_a_dt, './models/model_bank_a_dt.pkl')\n",
    "# joblib.dump(model_bank_a_lg, './models/model_bank_a_lg.pkl')\n",
    "# joblib.dump(model_bank_a_rf, './models/model_bank_a_rf.pkl')\n",
    "# joblib.dump(model_bank_a_gb, './models/model_bank_a_gb.pkl')\n",
    "# joblib.dump(model_bank_a_mlp, './models/model_bank_a_mlp.pkl')\n",
    "\n",
    "# joblib.dump(model_bank_b_dt, './models/model_bank_b_dt.pkl')\n",
    "# joblib.dump(model_bank_b_lg, './models/model_bank_b_lg.pkl')\n",
    "# joblib.dump(model_bank_b_rf, './models/model_bank_b_rf.pkl')\n",
    "# joblib.dump(model_bank_b_gb, './models/model_bank_b_gb.pkl')\n",
    "# joblib.dump(model_bank_b_mlp, './models/model_bank_b_mlp.pkl')\n",
    "\n",
    "# joblib.dump(model_bank_c_dt, './models/model_bank_c_dt.pkl')\n",
    "# joblib.dump(model_bank_c_lg, './models/model_bank_c_lg.pkl')\n",
    "# joblib.dump(model_bank_c_rf, './models/model_bank_c_rf.pkl')\n",
    "# joblib.dump(model_bank_c_gb, './models/model_bank_c_gb.pkl')\n",
    "# joblib.dump(model_bank_c_mlp, './models/model_bank_c_mlp.pkl')\n",
    "\n",
    "# Load the trained models\n",
    "# model_global_dt = joblib.load('./models/model_global_dt.pkl')\n",
    "# model_global_lg = joblib.load('./models/model_global_lg.pkl')\n",
    "# model_global_rf = joblib.load('./models/model_global_rf.pkl')\n",
    "# model_global_gb = joblib.load('./models/model_global_gb.pkl')\n",
    "# model_global_mlp = joblib.load('./models/model_global_mlp.pkl')\n",
    "\n",
    "# model_bank_a_dt = joblib.load('./models/model_bank_a_dt.pkl')\n",
    "# model_bank_a_lg = joblib.load('./models/model_bank_a_lg.pkl')\n",
    "# model_bank_a_rf = joblib.load('./models/model_bank_a_rf.pkl')\n",
    "# model_bank_a_gb = joblib.load('./models/model_bank_a_gb.pkl')\n",
    "# model_bank_a_mlp = joblib.load('./models/model_bank_a_mlp.pkl')\n",
    "\n",
    "# model_bank_b_dt = joblib.load('./models/model_bank_b_dt.pkl')\n",
    "# model_bank_b_lg = joblib.load('./models/model_bank_b_lg.pkl')\n",
    "# model_bank_b_rf = joblib.load('./models/model_bank_b_rf.pkl')\n",
    "# model_bank_b_gb = joblib.load('./models/model_bank_b_gb.pkl')\n",
    "# model_bank_b_mlp = joblib.load('./models/model_bank_b_mlp.pkl')\n",
    "\n",
    "# model_bank_c_dt = joblib.load('./models/model_bank_c_dt.pkl')\n",
    "# model_bank_c_lg = joblib.load('./models/model_bank_c_lg.pkl')\n",
    "# model_bank_c_rf = joblib.load('./models/model_bank_c_rf.pkl')\n",
    "# model_bank_c_gb = joblib.load('./models/model_bank_c_gb.pkl')\n",
    "# model_bank_c_mlp = joblib.load('./models/model_bank_c_mlp.pkl')"
   ]
  },
  {
   "cell_type": "markdown",
   "metadata": {},
   "source": [
    "#### Evaluate all the models"
   ]
  },
  {
   "cell_type": "code",
   "execution_count": 13,
   "metadata": {},
   "outputs": [],
   "source": [
    "# Evaluate the global models on the global test set\n",
    "\n",
    "## Predict\n",
    "y_pred_global_global_dt = model_global_dt.predict(X_test)\n",
    "y_pred_global_global_lg = model_global_lg.predict(X_test)\n",
    "y_pred_global_global_rf = model_global_rf.predict(X_test)\n",
    "y_pred_global_global_gb = model_global_gb.predict(X_test)\n",
    "# y_pred_global_global_mlp = model_global_mlp.predict(X_test)\n",
    "## Metrics\n",
    "acc_global_global_dt = accuracy_score(y_test, y_pred_global_global_dt)\n",
    "acc_global_global_lg = accuracy_score(y_test, y_pred_global_global_lg)\n",
    "acc_global_global_rf = accuracy_score(y_test, y_pred_global_global_rf)\n",
    "acc_global_global_gb = accuracy_score(y_test, y_pred_global_global_gb)\n",
    "# acc_global_global_mlp = accuracy_score(y_test, y_pred_global_global_mlp)\n",
    "f1_global_global_dt = f1_score(y_test, y_pred_global_global_dt)\n",
    "f1_global_global_lg = f1_score(y_test, y_pred_global_global_lg)\n",
    "f1_global_global_rf = f1_score(y_test, y_pred_global_global_rf)\n",
    "f1_global_global_gb = f1_score(y_test, y_pred_global_global_gb)\n",
    "# f1_global_global_mlp = f1_score(y_test, y_pred_global_global_mlp)\n",
    "kappa_global_global_dt = cohen_kappa_score(y_test, y_pred_global_global_dt)\n",
    "kappa_global_global_lg = cohen_kappa_score(y_test, y_pred_global_global_lg)\n",
    "kappa_global_global_rf = cohen_kappa_score(y_test, y_pred_global_global_rf)\n",
    "kappa_global_global_gb = cohen_kappa_score(y_test, y_pred_global_global_gb)\n",
    "# kappa_global_global_mlp = cohen_kappa_score(y_test, y_pred_global_global_mlp)\n",
    "\n",
    "# Evaluate the global models on the bank A, B and C test sets\n",
    "## Predict\n",
    "y_pred_global_bank_a_dt = model_global_dt.predict(X_test_bank_a)\n",
    "y_pred_global_bank_a_lg = model_global_lg.predict(X_test_bank_a)\n",
    "y_pred_global_bank_a_rf = model_global_rf.predict(X_test_bank_a)\n",
    "y_pred_global_bank_a_gb = model_global_gb.predict(X_test_bank_a)\n",
    "# y_pred_global_bank_a_mlp = model_global_mlp.predict(X_test_bank_a)\n",
    "\n",
    "y_pred_global_bank_b_dt = model_global_dt.predict(X_test_bank_b)\n",
    "y_pred_global_bank_b_lg = model_global_lg.predict(X_test_bank_b)\n",
    "y_pred_global_bank_b_rf = model_global_rf.predict(X_test_bank_b)\n",
    "y_pred_global_bank_b_gb = model_global_gb.predict(X_test_bank_b)\n",
    "# y_pred_global_bank_b_mlp = model_global_mlp.predict(X_test_bank_b)\n",
    "\n",
    "y_pred_global_bank_c_dt = model_global_dt.predict(X_test_bank_c)\n",
    "y_pred_global_bank_c_lg = model_global_lg.predict(X_test_bank_c)\n",
    "y_pred_global_bank_c_rf = model_global_rf.predict(X_test_bank_c)\n",
    "y_pred_global_bank_c_gb = model_global_gb.predict(X_test_bank_c)\n",
    "# y_pred_global_bank_c_mlp = model_global_mlp.predict(X_test_bank_c)\n",
    "## Metrics\n",
    "acc_global_bank_a_dt = accuracy_score(y_test_bank_a, y_pred_global_bank_a_dt)\n",
    "acc_global_bank_a_lg = accuracy_score(y_test_bank_a, y_pred_global_bank_a_lg)\n",
    "acc_global_bank_a_rf = accuracy_score(y_test_bank_a, y_pred_global_bank_a_rf)\n",
    "acc_global_bank_a_gb = accuracy_score(y_test_bank_a, y_pred_global_bank_a_gb)\n",
    "# acc_global_bank_a_mlp = accuracy_score(y_test_bank_a, y_pred_global_bank_a_mlp)\n",
    "f1_global_bank_a_dt = f1_score(y_test_bank_a, y_pred_global_bank_a_dt)\n",
    "f1_global_bank_a_lg = f1_score(y_test_bank_a, y_pred_global_bank_a_lg)\n",
    "f1_global_bank_a_rf = f1_score(y_test_bank_a, y_pred_global_bank_a_rf)\n",
    "f1_global_bank_a_gb = f1_score(y_test_bank_a, y_pred_global_bank_a_gb)\n",
    "# f1_global_bank_a_mlp = f1_score(y_test_bank_a, y_pred_global_bank_a_mlp)\n",
    "kappa_global_bank_a_dt = cohen_kappa_score(y_test_bank_a, y_pred_global_bank_a_dt)\n",
    "kappa_global_bank_a_lg = cohen_kappa_score(y_test_bank_a, y_pred_global_bank_a_lg)\n",
    "kappa_global_bank_a_rf = cohen_kappa_score(y_test_bank_a, y_pred_global_bank_a_rf)\n",
    "kappa_global_bank_a_gb = cohen_kappa_score(y_test_bank_a, y_pred_global_bank_a_gb)\n",
    "# kappa_global_bank_a_mlp = cohen_kappa_score(y_test_bank_a, y_pred_global_bank_a_mlp)\n",
    "\n",
    "acc_global_bank_b_dt = accuracy_score(y_test_bank_b, y_pred_global_bank_b_dt)\n",
    "acc_global_bank_b_lg = accuracy_score(y_test_bank_b, y_pred_global_bank_b_lg)\n",
    "acc_global_bank_b_rf = accuracy_score(y_test_bank_b, y_pred_global_bank_b_rf)\n",
    "acc_global_bank_b_gb = accuracy_score(y_test_bank_b, y_pred_global_bank_b_gb)\n",
    "# acc_global_bank_b_mlp = accuracy_score(y_test_bank_b, y_pred_global_bank_b_mlp)\n",
    "f1_global_bank_b_dt = f1_score(y_test_bank_b, y_pred_global_bank_b_dt)\n",
    "f1_global_bank_b_lg = f1_score(y_test_bank_b, y_pred_global_bank_b_lg)\n",
    "f1_global_bank_b_rf = f1_score(y_test_bank_b, y_pred_global_bank_b_rf)\n",
    "f1_global_bank_b_gb = f1_score(y_test_bank_b, y_pred_global_bank_b_gb)\n",
    "# f1_global_bank_b_mlp = f1_score(y_test_bank_b, y_pred_global_bank_b_mlp)\n",
    "kappa_global_bank_b_dt = cohen_kappa_score(y_test_bank_b, y_pred_global_bank_b_dt)\n",
    "kappa_global_bank_b_lg = cohen_kappa_score(y_test_bank_b, y_pred_global_bank_b_lg)\n",
    "kappa_global_bank_b_rf = cohen_kappa_score(y_test_bank_b, y_pred_global_bank_b_rf)\n",
    "kappa_global_bank_b_gb = cohen_kappa_score(y_test_bank_b, y_pred_global_bank_b_gb)\n",
    "# kappa_global_bank_b_mlp = cohen_kappa_score(y_test_bank_b, y_pred_global_bank_b_mlp)\n",
    "\n",
    "acc_global_bank_c_dt = accuracy_score(y_test_bank_c, y_pred_global_bank_c_dt)\n",
    "acc_global_bank_c_lg = accuracy_score(y_test_bank_c, y_pred_global_bank_c_lg)\n",
    "acc_global_bank_c_rf = accuracy_score(y_test_bank_c, y_pred_global_bank_c_rf)\n",
    "acc_global_bank_c_gb = accuracy_score(y_test_bank_c, y_pred_global_bank_c_gb)\n",
    "# acc_global_bank_c_mlp = accuracy_score(y_test_bank_c, y_pred_global_bank_c_mlp)\n",
    "f1_global_bank_c_dt = f1_score(y_test_bank_c, y_pred_global_bank_c_dt)\n",
    "f1_global_bank_c_lg = f1_score(y_test_bank_c, y_pred_global_bank_c_lg)\n",
    "f1_global_bank_c_rf = f1_score(y_test_bank_c, y_pred_global_bank_c_rf)\n",
    "f1_global_bank_c_gb = f1_score(y_test_bank_c, y_pred_global_bank_c_gb)\n",
    "# f1_global_bank_c_mlp = f1_score(y_test_bank_c, y_pred_global_bank_c_mlp)\n",
    "kappa_global_bank_c_dt = cohen_kappa_score(y_test_bank_c, y_pred_global_bank_c_dt)\n",
    "kappa_global_bank_c_lg = cohen_kappa_score(y_test_bank_c, y_pred_global_bank_c_lg)\n",
    "kappa_global_bank_c_rf = cohen_kappa_score(y_test_bank_c, y_pred_global_bank_c_rf)\n",
    "kappa_global_bank_c_gb = cohen_kappa_score(y_test_bank_c, y_pred_global_bank_c_gb)\n",
    "# kappa_global_bank_c_mlp = cohen_kappa_score(y_test_bank_c, y_pred_global_bank_c_mlp)\n",
    "\n",
    "\n",
    "# Evaluate the bank A models on the bank A test set\n",
    "## Predict\n",
    "y_pred_bank_a_bank_a_dt = model_bank_a_dt.predict(X_test_bank_a)\n",
    "y_pred_bank_a_bank_a_lg = model_bank_a_lg.predict(X_test_bank_a)\n",
    "y_pred_bank_a_bank_a_rf = model_bank_a_rf.predict(X_test_bank_a)\n",
    "y_pred_bank_a_bank_a_gb = model_bank_a_gb.predict(X_test_bank_a)\n",
    "# y_pred_bank_a_bank_a_mlp = model_bank_a_mlp.predict(X_test_bank_a)\n",
    "## Metrics\n",
    "acc_bank_a_bank_a_dt = accuracy_score(y_test_bank_a, y_pred_bank_a_bank_a_dt)\n",
    "acc_bank_a_bank_a_lg = accuracy_score(y_test_bank_a, y_pred_bank_a_bank_a_lg)\n",
    "acc_bank_a_bank_a_rf = accuracy_score(y_test_bank_a, y_pred_bank_a_bank_a_rf)\n",
    "acc_bank_a_bank_a_gb = accuracy_score(y_test_bank_a, y_pred_bank_a_bank_a_gb)\n",
    "# acc_bank_a_bank_a_mlp = accuracy_score(y_test_bank_a, y_pred_bank_a_bank_a_mlp)\n",
    "f1_bank_a_bank_a_dt = f1_score(y_test_bank_a, y_pred_bank_a_bank_a_dt)\n",
    "f1_bank_a_bank_a_lg = f1_score(y_test_bank_a, y_pred_bank_a_bank_a_lg)\n",
    "f1_bank_a_bank_a_rf = f1_score(y_test_bank_a, y_pred_bank_a_bank_a_rf)\n",
    "f1_bank_a_bank_a_gb = f1_score(y_test_bank_a, y_pred_bank_a_bank_a_gb)\n",
    "# f1_bank_a_bank_a_mlp = f1_score(y_test_bank_a, y_pred_bank_a_bank_a_mlp)\n",
    "kappa_bank_a_bank_a_dt = cohen_kappa_score(y_test_bank_a, y_pred_bank_a_bank_a_dt)\n",
    "kappa_bank_a_bank_a_lg = cohen_kappa_score(y_test_bank_a, y_pred_bank_a_bank_a_lg)\n",
    "kappa_bank_a_bank_a_rf = cohen_kappa_score(y_test_bank_a, y_pred_bank_a_bank_a_rf)\n",
    "kappa_bank_a_bank_a_gb = cohen_kappa_score(y_test_bank_a, y_pred_bank_a_bank_a_gb)\n",
    "# kappa_bank_a_bank_a_mlp = cohen_kappa_score(y_test_bank_a, y_pred_bank_a_bank_a_mlp)\n",
    "\n",
    "\n",
    "# Evaluate the bank B models on the bank B test set\n",
    "## Predict\n",
    "y_pred_bank_b_bank_b_dt = model_bank_b_dt.predict(X_test_bank_b)\n",
    "y_pred_bank_b_bank_b_lg = model_bank_b_lg.predict(X_test_bank_b)\n",
    "y_pred_bank_b_bank_b_rf = model_bank_b_rf.predict(X_test_bank_b)\n",
    "y_pred_bank_b_bank_b_gb = model_bank_b_gb.predict(X_test_bank_b)\n",
    "# y_pred_bank_b_bank_b_mlp = model_bank_b_mlp.predict(X_test_bank_b)\n",
    "## Metrics\n",
    "acc_bank_b_bank_b_dt = accuracy_score(y_test_bank_b, y_pred_bank_b_bank_b_dt)\n",
    "acc_bank_b_bank_b_lg = accuracy_score(y_test_bank_b, y_pred_bank_b_bank_b_lg)\n",
    "acc_bank_b_bank_b_rf = accuracy_score(y_test_bank_b, y_pred_bank_b_bank_b_rf)\n",
    "acc_bank_b_bank_b_gb = accuracy_score(y_test_bank_b, y_pred_bank_b_bank_b_gb)\n",
    "# acc_bank_b_bank_b_mlp = accuracy_score(y_test_bank_b, y_pred_bank_b_bank_b_mlp)\n",
    "f1_bank_b_bank_b_dt = f1_score(y_test_bank_b, y_pred_bank_b_bank_b_dt)\n",
    "f1_bank_b_bank_b_lg = f1_score(y_test_bank_b, y_pred_bank_b_bank_b_lg)\n",
    "f1_bank_b_bank_b_rf = f1_score(y_test_bank_b, y_pred_bank_b_bank_b_rf)\n",
    "f1_bank_b_bank_b_gb = f1_score(y_test_bank_b, y_pred_bank_b_bank_b_gb)\n",
    "# f1_bank_b_bank_b_mlp = f1_score(y_test_bank_b, y_pred_bank_b_bank_b_mlp)\n",
    "kappa_bank_b_bank_b_dt = cohen_kappa_score(y_test_bank_b, y_pred_bank_b_bank_b_dt)\n",
    "kappa_bank_b_bank_b_lg = cohen_kappa_score(y_test_bank_b, y_pred_bank_b_bank_b_lg)\n",
    "kappa_bank_b_bank_b_rf = cohen_kappa_score(y_test_bank_b, y_pred_bank_b_bank_b_rf)\n",
    "kappa_bank_b_bank_b_gb = cohen_kappa_score(y_test_bank_b, y_pred_bank_b_bank_b_gb)\n",
    "# kappa_bank_b_bank_b_mlp = cohen_kappa_score(y_test_bank_b, y_pred_bank_b_bank_b_mlp)\n",
    "\n",
    "\n",
    "# Evaluate the bank C models on the bank C test set\n",
    "## Predict\n",
    "y_pred_bank_c_bank_c_dt = model_bank_c_dt.predict(X_test_bank_c)\n",
    "y_pred_bank_c_bank_c_lg = model_bank_c_lg.predict(X_test_bank_c)\n",
    "y_pred_bank_c_bank_c_rf = model_bank_c_rf.predict(X_test_bank_c)\n",
    "y_pred_bank_c_bank_c_gb = model_bank_c_gb.predict(X_test_bank_c)\n",
    "# y_pred_bank_c_bank_c_mlp = model_bank_c_mlp.predict(X_test_bank_c)\n",
    "## Metrics\n",
    "acc_bank_c_bank_c_dt = accuracy_score(y_test_bank_c, y_pred_bank_c_bank_c_dt)\n",
    "acc_bank_c_bank_c_lg = accuracy_score(y_test_bank_c, y_pred_bank_c_bank_c_lg)\n",
    "acc_bank_c_bank_c_rf = accuracy_score(y_test_bank_c, y_pred_bank_c_bank_c_rf)\n",
    "acc_bank_c_bank_c_gb = accuracy_score(y_test_bank_c, y_pred_bank_c_bank_c_gb)\n",
    "# acc_bank_c_bank_c_mlp = accuracy_score(y_test_bank_c, y_pred_bank_c_bank_c_mlp)\n",
    "f1_bank_c_bank_c_dt = f1_score(y_test_bank_c, y_pred_bank_c_bank_c_dt)\n",
    "f1_bank_c_bank_c_lg = f1_score(y_test_bank_c, y_pred_bank_c_bank_c_lg)\n",
    "f1_bank_c_bank_c_rf = f1_score(y_test_bank_c, y_pred_bank_c_bank_c_rf)\n",
    "f1_bank_c_bank_c_gb = f1_score(y_test_bank_c, y_pred_bank_c_bank_c_gb)\n",
    "# f1_bank_c_bank_c_mlp = f1_score(y_test_bank_c, y_pred_bank_c_bank_c_mlp)\n",
    "kappa_bank_c_bank_c_dt = cohen_kappa_score(y_test_bank_c, y_pred_bank_c_bank_c_dt)\n",
    "kappa_bank_c_bank_c_lg = cohen_kappa_score(y_test_bank_c, y_pred_bank_c_bank_c_lg)\n",
    "kappa_bank_c_bank_c_rf = cohen_kappa_score(y_test_bank_c, y_pred_bank_c_bank_c_rf)\n",
    "kappa_bank_c_bank_c_gb = cohen_kappa_score(y_test_bank_c, y_pred_bank_c_bank_c_gb)\n",
    "# kappa_bank_c_bank_c_mlp = cohen_kappa_score(y_test_bank_c, y_pred_bank_c_bank_c_mlp)"
   ]
  },
  {
   "cell_type": "code",
   "execution_count": 14,
   "metadata": {},
   "outputs": [],
   "source": [
    "# Store all metrics in a dataframe with columns: modeltype, explainability, model, dataset , accuracy, f1, kappa\n",
    "df_metrics = pd.DataFrame(columns=['modeltype', 'explainability', 'model', 'dataset', 'accuracy', 'f1', 'kappa'])\n",
    "\n",
    "# Add the global models to the dataframe\n",
    "df_metrics = pd.concat([df_metrics, pd.DataFrame({'modeltype': 'decision tree', 'explainability': 'high', 'model': 'Global Model', 'dataset': 'global dataset', 'accuracy': acc_global_global_dt, 'f1': f1_global_global_dt, 'kappa': kappa_global_global_dt}, index=[0])], ignore_index=True)\n",
    "df_metrics = pd.concat([df_metrics, pd.DataFrame({'modeltype': 'logistic regression', 'explainability': 'high', 'model': 'Global Model', 'dataset': 'global dataset', 'accuracy': acc_global_global_lg, 'f1': f1_global_global_lg, 'kappa': kappa_global_global_lg}, index=[0])], ignore_index=True)\n",
    "df_metrics = pd.concat([df_metrics, pd.DataFrame({'modeltype': 'random forest', 'explainability': 'low', 'model': 'Global Model', 'dataset': 'global dataset', 'accuracy': acc_global_global_rf, 'f1': f1_global_global_rf, 'kappa': kappa_global_global_rf}, index=[0])], ignore_index=True)\n",
    "df_metrics = pd.concat([df_metrics, pd.DataFrame({'modeltype': 'gradient boosting', 'explainability': 'low', 'model': 'Global Model', 'dataset': 'global dataset', 'accuracy': acc_global_global_gb, 'f1': f1_global_global_gb, 'kappa': kappa_global_global_gb}, index=[0])], ignore_index=True)\n",
    "# df_metrics = pd.concat([df_metrics, pd.DataFrame({'modeltype': 'multilayer perceptron', 'explainability': 'low', 'model': 'Global Model', 'dataset': 'global dataset', 'accuracy': acc_global_global_mlp, 'f1': f1_global_global_mlp, 'kappa': kappa_global_global_mlp}, index=[0])], ignore_index=True)\n",
    "df_metrics = pd.concat([df_metrics, pd.DataFrame({'modeltype': 'decision tree', 'explainability': 'high', 'model': 'Global Model', 'dataset': 'bank A dataset', 'accuracy': acc_global_bank_a_dt, 'f1': f1_global_bank_a_dt, 'kappa': kappa_global_bank_a_dt}, index=[0])], ignore_index=True)\n",
    "df_metrics = pd.concat([df_metrics, pd.DataFrame({'modeltype': 'logistic regression', 'explainability': 'high', 'model': 'Global Model', 'dataset': 'bank A dataset', 'accuracy': acc_global_bank_a_lg, 'f1': f1_global_bank_a_lg, 'kappa': kappa_global_bank_a_lg}, index=[0])], ignore_index=True)\n",
    "df_metrics = pd.concat([df_metrics, pd.DataFrame({'modeltype': 'random forest', 'explainability': 'low', 'model': 'Global Model', 'dataset': 'bank A dataset', 'accuracy': acc_global_bank_a_rf, 'f1': f1_global_bank_a_rf, 'kappa': kappa_global_bank_a_rf}, index=[0])], ignore_index=True)\n",
    "df_metrics = pd.concat([df_metrics, pd.DataFrame({'modeltype': 'gradient boosting', 'explainability': 'low', 'model': 'Global Model', 'dataset': 'bank A dataset', 'accuracy': acc_global_bank_a_gb, 'f1': f1_global_bank_a_gb, 'kappa': kappa_global_bank_a_gb}, index=[0])], ignore_index=True)\n",
    "# df_metrics = pd.concat([df_metrics, pd.DataFrame({'modeltype': 'multilayer perceptron', 'explainability': 'low', 'model': 'Global Model', 'dataset': 'bank A dataset', 'accuracy': acc_global_bank_a_mlp, 'f1': f1_global_bank_a_mlp, 'kappa': kappa_global_bank_a_mlp}, index=[0])], ignore_index=True)\n",
    "df_metrics = pd.concat([df_metrics, pd.DataFrame({'modeltype': 'decision tree', 'explainability': 'high', 'model': 'Global Model', 'dataset': 'bank B dataset', 'accuracy': acc_global_bank_b_dt, 'f1': f1_global_bank_b_dt, 'kappa': kappa_global_bank_b_dt}, index=[0])], ignore_index=True)\n",
    "df_metrics = pd.concat([df_metrics, pd.DataFrame({'modeltype': 'logistic regression', 'explainability': 'high', 'model': 'Global Model', 'dataset': 'bank B dataset', 'accuracy': acc_global_bank_b_lg, 'f1': f1_global_bank_b_lg, 'kappa': kappa_global_bank_b_lg}, index=[0])], ignore_index=True)\n",
    "df_metrics = pd.concat([df_metrics, pd.DataFrame({'modeltype': 'random forest', 'explainability': 'low', 'model': 'Global Model', 'dataset': 'bank B dataset', 'accuracy': acc_global_bank_b_rf, 'f1': f1_global_bank_b_rf, 'kappa': kappa_global_bank_b_rf}, index=[0])], ignore_index=True)\n",
    "df_metrics = pd.concat([df_metrics, pd.DataFrame({'modeltype': 'gradient boosting', 'explainability': 'low', 'model': 'Global Model', 'dataset': 'bank B dataset', 'accuracy': acc_global_bank_b_gb, 'f1': f1_global_bank_b_gb, 'kappa': kappa_global_bank_b_gb}, index=[0])], ignore_index=True)\n",
    "# df_metrics = pd.concat([df_metrics, pd.DataFrame({'modeltype': 'multilayer perceptron', 'explainability': 'low', 'model': 'Global Model', 'dataset': 'bank B dataset', 'accuracy': acc_global_bank_b_mlp, 'f1': f1_global_bank_b_mlp, 'kappa': kappa_global_bank_b_mlp}, index=[0])], ignore_index=True)\n",
    "df_metrics = pd.concat([df_metrics, pd.DataFrame({'modeltype': 'decision tree', 'explainability': 'high', 'model': 'Global Model', 'dataset': 'bank C dataset', 'accuracy': acc_global_bank_c_dt, 'f1': f1_global_bank_c_dt, 'kappa': kappa_global_bank_c_dt}, index=[0])], ignore_index=True)\n",
    "df_metrics = pd.concat([df_metrics, pd.DataFrame({'modeltype': 'logistic regression', 'explainability': 'high', 'model': 'Global Model', 'dataset': 'bank C dataset', 'accuracy': acc_global_bank_c_lg, 'f1': f1_global_bank_c_lg, 'kappa': kappa_global_bank_c_lg}, index=[0])], ignore_index=True)\n",
    "df_metrics = pd.concat([df_metrics, pd.DataFrame({'modeltype': 'random forest', 'explainability': 'low', 'model': 'Global Model', 'dataset': 'bank C dataset', 'accuracy': acc_global_bank_c_rf, 'f1': f1_global_bank_c_rf, 'kappa': kappa_global_bank_c_rf}, index=[0])], ignore_index=True)\n",
    "df_metrics = pd.concat([df_metrics, pd.DataFrame({'modeltype': 'gradient boosting', 'explainability': 'low', 'model': 'Global Model', 'dataset': 'bank C dataset', 'accuracy': acc_global_bank_c_gb, 'f1': f1_global_bank_c_gb, 'kappa': kappa_global_bank_c_gb}, index=[0])], ignore_index=True)\n",
    "# df_metrics = pd.concat([df_metrics, pd.DataFrame({'modeltype': 'multilayer perceptron', 'explainability': 'low', 'model': 'Global Model', 'dataset': 'bank C dataset', 'accuracy': acc_global_bank_c_mlp, 'f1': f1_global_bank_c_mlp, 'kappa': kappa_global_bank_c_mlp}, index=[0])], ignore_index=True)\n",
    "\n",
    "# Add the bank A models to the dataframe\n",
    "df_metrics = pd.concat([df_metrics, pd.DataFrame({'modeltype': 'decision tree', 'explainability': 'high', 'model': 'Bank A Model', 'dataset': 'bank A dataset', 'accuracy': acc_bank_a_bank_a_dt, 'f1': f1_bank_a_bank_a_dt, 'kappa': kappa_bank_a_bank_a_dt}, index=[0])], ignore_index=True)\n",
    "df_metrics = pd.concat([df_metrics, pd.DataFrame({'modeltype': 'logistic regression', 'explainability': 'high', 'model': 'Bank A Model', 'dataset': 'bank A dataset', 'accuracy': acc_bank_a_bank_a_lg, 'f1': f1_bank_a_bank_a_lg, 'kappa': kappa_bank_a_bank_a_lg}, index=[0])], ignore_index=True)\n",
    "df_metrics = pd.concat([df_metrics, pd.DataFrame({'modeltype': 'random forest', 'explainability': 'low', 'model': 'Bank A Model', 'dataset': 'bank A dataset', 'accuracy': acc_bank_a_bank_a_rf, 'f1': f1_bank_a_bank_a_rf, 'kappa': kappa_bank_a_bank_a_rf}, index=[0])], ignore_index=True)\n",
    "df_metrics = pd.concat([df_metrics, pd.DataFrame({'modeltype': 'gradient boosting', 'explainability': 'low', 'model': 'Bank A Model', 'dataset': 'bank A dataset', 'accuracy': acc_bank_a_bank_a_gb, 'f1': f1_bank_a_bank_a_gb, 'kappa': kappa_bank_a_bank_a_gb}, index=[0])], ignore_index=True)\n",
    "# df_metrics = pd.concat([df_metrics, pd.DataFrame({'modeltype': 'multilayer perceptron', 'explainability': 'low', 'model': 'Bank A Model', 'dataset': 'bank A dataset', 'accuracy': acc_bank_a_bank_a_mlp, 'f1': f1_bank_a_bank_a_mlp, 'kappa': kappa_bank_a_bank_a_mlp}, index=[0])], ignore_index=True)\n",
    "\n",
    "# Add the bank B models to the dataframe\n",
    "df_metrics = pd.concat([df_metrics, pd.DataFrame({'modeltype': 'decision tree', 'explainability': 'high', 'model': 'Bank B Model', 'dataset': 'bank B dataset', 'accuracy': acc_bank_b_bank_b_dt, 'f1': f1_bank_b_bank_b_dt, 'kappa': kappa_bank_b_bank_b_dt}, index=[0])], ignore_index=True)\n",
    "df_metrics = pd.concat([df_metrics, pd.DataFrame({'modeltype': 'logistic regression', 'explainability': 'high', 'model': 'Bank B Model', 'dataset': 'bank B dataset', 'accuracy': acc_bank_b_bank_b_lg, 'f1': f1_bank_b_bank_b_lg, 'kappa': kappa_bank_b_bank_b_lg}, index=[0])], ignore_index=True)\n",
    "df_metrics = pd.concat([df_metrics, pd.DataFrame({'modeltype': 'random forest', 'explainability': 'low', 'model': 'Bank B Model', 'dataset': 'bank B dataset', 'accuracy': acc_bank_b_bank_b_rf, 'f1': f1_bank_b_bank_b_rf, 'kappa': kappa_bank_b_bank_b_rf}, index=[0])], ignore_index=True)\n",
    "df_metrics = pd.concat([df_metrics, pd.DataFrame({'modeltype': 'gradient boosting', 'explainability': 'low', 'model': 'Bank B Model', 'dataset': 'bank B dataset', 'accuracy': acc_bank_b_bank_b_gb, 'f1': f1_bank_b_bank_b_gb, 'kappa': kappa_bank_b_bank_b_gb}, index=[0])], ignore_index=True)\n",
    "# df_metrics = pd.concat([df_metrics, pd.DataFrame({'modeltype': 'multilayer perceptron', 'explainability': 'low', 'model': 'Bank B Model', 'dataset': 'bank B dataset', 'accuracy': acc_bank_b_bank_b_mlp, 'f1': f1_bank_b_bank_b_mlp, 'kappa': kappa_bank_b_bank_b_mlp}, index=[0])], ignore_index=True)\n",
    "\n",
    "# Add the bank C models to the dataframe\n",
    "df_metrics = pd.concat([df_metrics, pd.DataFrame({'modeltype': 'decision tree', 'explainability': 'high', 'model': 'Bank C Model', 'dataset': 'bank C dataset', 'accuracy': acc_bank_c_bank_c_dt, 'f1': f1_bank_c_bank_c_dt, 'kappa': kappa_bank_c_bank_c_dt}, index=[0])], ignore_index=True)\n",
    "df_metrics = pd.concat([df_metrics, pd.DataFrame({'modeltype': 'logistic regression', 'explainability': 'high', 'model': 'Bank C Model', 'dataset': 'bank C dataset', 'accuracy': acc_bank_c_bank_c_lg, 'f1': f1_bank_c_bank_c_lg, 'kappa': kappa_bank_c_bank_c_lg}, index=[0])], ignore_index=True)\n",
    "df_metrics = pd.concat([df_metrics, pd.DataFrame({'modeltype': 'random forest', 'explainability': 'low', 'model': 'Bank C Model', 'dataset': 'bank C dataset', 'accuracy': acc_bank_c_bank_c_rf, 'f1': f1_bank_c_bank_c_rf, 'kappa': kappa_bank_c_bank_c_rf}, index=[0])], ignore_index=True)\n",
    "df_metrics = pd.concat([df_metrics, pd.DataFrame({'modeltype': 'gradient boosting', 'explainability': 'low', 'model': 'Bank C Model', 'dataset': 'bank C dataset', 'accuracy': acc_bank_c_bank_c_gb, 'f1': f1_bank_c_bank_c_gb, 'kappa': kappa_bank_c_bank_c_gb}, index=[0])], ignore_index=True)\n",
    "# df_metrics = pd.concat([df_metrics, pd.DataFrame({'modeltype': 'multilayer perceptron', 'explainability': 'low', 'model': 'Bank C Model', 'dataset': 'bank C dataset', 'accuracy': acc_bank_c_bank_c_mlp, 'f1': f1_bank_c_bank_c_mlp, 'kappa': kappa_bank_c_bank_c_mlp}, index=[0])], ignore_index=True)"
   ]
  },
  {
   "cell_type": "code",
   "execution_count": 15,
   "metadata": {},
   "outputs": [],
   "source": [
    "# Rename dataset to testdataset\n",
    "df_metrics = df_metrics.rename(columns={'dataset': 'Test-Dataset'})\n",
    "df_metrics = df_metrics.rename(columns={'modeltype': 'Model-Type'})\n",
    "df_metrics = df_metrics.rename(columns={'model': 'Model'})\n",
    "df_metrics = df_metrics.rename(columns={'accuracy': 'Accuracy'})\n",
    "\n",
    "df_metrics['Model-Type'].replace({'logistic regression': 'LogisticRegression'}, inplace=True)\n",
    "df_metrics['Model-Type'].replace({'decision tree': 'DecisionTree'}, inplace=True)\n",
    "df_metrics['Model-Type'].replace({'random forest': 'RandomForest'}, inplace=True)\n",
    "df_metrics['Model-Type'].replace({'gradient boosting': 'GradientBoosting'}, inplace=True)\n",
    "df_metrics['Test-Dataset'].replace({'bank A dataset': 'Bank A Dataset'}, inplace=True)\n",
    "df_metrics['Test-Dataset'].replace({'bank B dataset': 'Bank B Dataset'}, inplace=True)\n",
    "df_metrics['Test-Dataset'].replace({'bank C dataset': 'Bank C Dataset'}, inplace=True)"
   ]
  },
  {
   "cell_type": "code",
   "execution_count": 16,
   "metadata": {},
   "outputs": [
    {
     "data": {
      "image/png": "[encoded data removed]",
      "text/plain": [
       "<Figure size 900x600 with 1 Axes>"
      ]
     },
     "metadata": {},
     "output_type": "display_data"
    }
   ],
   "source": [
    "sns.set_theme(style=\"whitegrid\")\n",
    "sns.set(rc={'figure.figsize':(9,6)})\n",
    "sns.set(font_scale=1.5)\n",
    "ax = sns.scatterplot(x=\"Model\", y=\"Accuracy\", hue=\"Test-Dataset\", style=\"Model-Type\", data=df_metrics[df_metrics['Test-Dataset'] != 'global dataset'], s=150, alpha=0.75)\n",
    "ax.set(xlabel='Model', ylabel='Accuracy')\n",
    "# Rename the legend titles\n",
    "plt.legend(bbox_to_anchor=(1.05, 1), loc=2, borderaxespad=0.)\n",
    "plt.show()"
   ]
  }
 ],
 "metadata": {
  "kernelspec": {
   "display_name": "Python 3.9.6 ('venv': venv)",
   "language": "python",
   "name": "python3"
  },
  "language_info": {
   "codemirror_mode": {
    "name": "ipython",
    "version": 3
   },
   "file_extension": ".py",
   "mimetype": "text/x-python",
   "name": "python",
   "nbconvert_exporter": "python",
   "pygments_lexer": "ipython3",
   "version": "3.10.10"
  },
  "vscode": {
   "interpreter": {
    "hash": "ed2f6b002986ac2c7a6fa49d8fd309335f6e2a10de63f41f25f4c612669896a6"
   }
  }
 },
 "nbformat": 4,
 "nbformat_minor": 2
}
