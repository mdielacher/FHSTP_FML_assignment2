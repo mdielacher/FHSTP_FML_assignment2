{
 "cells": [
  {
   "cell_type": "code",
   "execution_count": 1,
   "metadata": {},
   "outputs": [],
   "source": [
    "import pandas as pd\n",
    "import numpy as np\n",
    "from sklearn.model_selection import train_test_split\n",
    "from sklearn.tree import DecisionTreeClassifier\n",
    "from sklearn.linear_model import LogisticRegression\n",
    "from sklearn.ensemble import RandomForestClassifier\n",
    "from sklearn.ensemble import GradientBoostingClassifier\n",
    "from sklearn.metrics import accuracy_score, f1_score, cohen_kappa_score\n",
    "from sklearn import preprocessing\n",
    "from sklearn.model_selection import RandomizedSearchCV\n",
    "from sklearn.base import clone\n",
    "import seaborn as sns\n",
    "import matplotlib.pyplot as plt\n",
    "import joblib\n",
    "import warnings\n",
    "\n",
    "warnings.filterwarnings(\"ignore\")"
   ]
  },
  {
   "cell_type": "code",
   "execution_count": 2,
   "metadata": {},
   "outputs": [],
   "source": [
    "# Set a seed for reproducibility\n",
    "seed_value = 42\n",
    "import random\n",
    "random.seed(seed_value)\n",
    "import numpy as np\n",
    "np.random.seed(seed_value)"
   ]
  },
  {
   "cell_type": "markdown",
   "metadata": {},
   "source": [
    "## Data Loading"
   ]
  },
  {
   "cell_type": "code",
   "execution_count": 3,
   "metadata": {},
   "outputs": [],
   "source": [
    "df_bank_a = pd.read_csv('../data/BankA_preprocessed.csv')\n",
    "df_bank_b = pd.read_csv('../data/BankB_preprocessed.csv')\n",
    "df_bank_c = pd.read_csv('../data/BankC_preprocessed.csv')"
   ]
  },
  {
   "cell_type": "code",
   "execution_count": 4,
   "metadata": {},
   "outputs": [],
   "source": [
    "df_all = pd.concat([df_bank_a, df_bank_b, df_bank_c])"
   ]
  },
  {
   "cell_type": "markdown",
   "metadata": {},
   "source": [
    "## Data Preprocessing"
   ]
  },
  {
   "cell_type": "markdown",
   "metadata": {},
   "source": [
    "### Create bins for age"
   ]
  },
  {
   "cell_type": "code",
   "execution_count": 5,
   "metadata": {},
   "outputs": [],
   "source": [
    "# Convert age in bins of 10 years\n",
    "df_all['age'] = pd.cut(df_all['age'], bins=[0, 20, 30, 40, 50, 60, 70, 80, 90, 100], labels=['0-20', '20-30', '30-40', '40-50', '50-60', '60-70', '70-80', '80-90', '>90'])\n",
    "df_bank_a['age'] = pd.cut(df_bank_a['age'], bins=[0, 20, 30, 40, 50, 60, 70, 80, 90, 100], labels=['0-20', '20-30', '30-40', '40-50', '50-60', '60-70', '70-80', '80-90', '>90'])\n",
    "df_bank_b['age'] = pd.cut(df_bank_b['age'], bins=[0, 20, 30, 40, 50, 60, 70, 80, 90, 100], labels=['0-20', '20-30', '30-40', '40-50', '50-60', '60-70', '70-80', '80-90', '>90'])\n",
    "df_bank_c['age'] = pd.cut(df_bank_c['age'], bins=[0, 20, 30, 40, 50, 60, 70, 80, 90, 100], labels=['0-20', '20-30', '30-40', '40-50', '50-60', '60-70', '70-80', '80-90', '>90'])"
   ]
  },
  {
   "cell_type": "code",
   "execution_count": 6,
   "metadata": {},
   "outputs": [
    {
     "data": {
      "text/html": [
       "<div>\n",
       "<style scoped>\n",
       "    .dataframe tbody tr th:only-of-type {\n",
       "        vertical-align: middle;\n",
       "    }\n",
       "\n",
       "    .dataframe tbody tr th {\n",
       "        vertical-align: top;\n",
       "    }\n",
       "\n",
       "    .dataframe thead th {\n",
       "        text-align: right;\n",
       "    }\n",
       "</style>\n",
       "<table border=\"1\" class=\"dataframe\">\n",
       "  <thead>\n",
       "    <tr style=\"text-align: right;\">\n",
       "      <th></th>\n",
       "      <th>age</th>\n",
       "      <th>workclass</th>\n",
       "      <th>education</th>\n",
       "      <th>marital-status</th>\n",
       "      <th>occupation</th>\n",
       "      <th>relationship</th>\n",
       "      <th>hours-per-week</th>\n",
       "      <th>native-country</th>\n",
       "      <th>income</th>\n",
       "      <th>capital-diff</th>\n",
       "    </tr>\n",
       "  </thead>\n",
       "  <tbody>\n",
       "    <tr>\n",
       "      <th>0</th>\n",
       "      <td>30-40</td>\n",
       "      <td>Private</td>\n",
       "      <td>Bachelors</td>\n",
       "      <td>Married</td>\n",
       "      <td>high</td>\n",
       "      <td>Parent</td>\n",
       "      <td>50</td>\n",
       "      <td>North-America</td>\n",
       "      <td>1</td>\n",
       "      <td>7298</td>\n",
       "    </tr>\n",
       "    <tr>\n",
       "      <th>1</th>\n",
       "      <td>40-50</td>\n",
       "      <td>Private</td>\n",
       "      <td>Bachelors</td>\n",
       "      <td>Married</td>\n",
       "      <td>medium</td>\n",
       "      <td>Parent</td>\n",
       "      <td>55</td>\n",
       "      <td>North-America</td>\n",
       "      <td>1</td>\n",
       "      <td>0</td>\n",
       "    </tr>\n",
       "    <tr>\n",
       "      <th>2</th>\n",
       "      <td>50-60</td>\n",
       "      <td>unknown</td>\n",
       "      <td>Bachelors</td>\n",
       "      <td>Married-spouse-absent</td>\n",
       "      <td>unknown</td>\n",
       "      <td>Other-relative</td>\n",
       "      <td>15</td>\n",
       "      <td>North-America</td>\n",
       "      <td>0</td>\n",
       "      <td>0</td>\n",
       "    </tr>\n",
       "    <tr>\n",
       "      <th>3</th>\n",
       "      <td>30-40</td>\n",
       "      <td>Private</td>\n",
       "      <td>Bachelors</td>\n",
       "      <td>Married</td>\n",
       "      <td>medium</td>\n",
       "      <td>Parent</td>\n",
       "      <td>40</td>\n",
       "      <td>North-America</td>\n",
       "      <td>0</td>\n",
       "      <td>0</td>\n",
       "    </tr>\n",
       "    <tr>\n",
       "      <th>4</th>\n",
       "      <td>60-70</td>\n",
       "      <td>Self-emp-inc</td>\n",
       "      <td>Bachelors</td>\n",
       "      <td>Married</td>\n",
       "      <td>medium</td>\n",
       "      <td>Parent</td>\n",
       "      <td>40</td>\n",
       "      <td>North-America</td>\n",
       "      <td>1</td>\n",
       "      <td>15024</td>\n",
       "    </tr>\n",
       "  </tbody>\n",
       "</table>\n",
       "</div>"
      ],
      "text/plain": [
       "     age     workclass  education         marital-status occupation  \\\n",
       "0  30-40       Private  Bachelors                Married       high   \n",
       "1  40-50       Private  Bachelors                Married     medium   \n",
       "2  50-60       unknown  Bachelors  Married-spouse-absent    unknown   \n",
       "3  30-40       Private  Bachelors                Married     medium   \n",
       "4  60-70  Self-emp-inc  Bachelors                Married     medium   \n",
       "\n",
       "     relationship  hours-per-week native-country  income  capital-diff  \n",
       "0          Parent              50  North-America       1          7298  \n",
       "1          Parent              55  North-America       1             0  \n",
       "2  Other-relative              15  North-America       0             0  \n",
       "3          Parent              40  North-America       0             0  \n",
       "4          Parent              40  North-America       1         15024  "
      ]
     },
     "execution_count": 6,
     "metadata": {},
     "output_type": "execute_result"
    }
   ],
   "source": [
    "df_all.head()"
   ]
  },
  {
   "cell_type": "markdown",
   "metadata": {},
   "source": [
    "### Target Column"
   ]
  },
  {
   "cell_type": "code",
   "execution_count": 7,
   "metadata": {},
   "outputs": [],
   "source": [
    "# One-hot encode the categorical columns\n",
    "categorical_columns = df_all.select_dtypes(include=['object']).columns\n",
    "categorical_columns = categorical_columns.append(pd.Index(['age']))\n",
    "df_all = pd.get_dummies(df_all, columns=categorical_columns)\n",
    "\n",
    "# One-hot encode the categorical columns\n",
    "categorical_columns = df_bank_a.select_dtypes(include=['object']).columns\n",
    "categorical_columns = categorical_columns.append(pd.Index(['age']))\n",
    "df_bank_a = pd.get_dummies(df_bank_a, columns=categorical_columns)\n",
    "\n",
    "# One-hot encode the categorical columns\n",
    "categorical_columns = df_bank_b.select_dtypes(include=['object']).columns\n",
    "categorical_columns = categorical_columns.append(pd.Index(['age']))\n",
    "df_bank_b = pd.get_dummies(df_bank_b, columns=categorical_columns)\n",
    "\n",
    "# One-hot encode the categorical columns\n",
    "categorical_columns = df_bank_c.select_dtypes(include=['object']).columns\n",
    "categorical_columns = categorical_columns.append(pd.Index(['age']))\n",
    "df_bank_c = pd.get_dummies(df_bank_c, columns=categorical_columns)"
   ]
  },
  {
   "cell_type": "markdown",
   "metadata": {},
   "source": [
    "## Model Training"
   ]
  },
  {
   "cell_type": "markdown",
   "metadata": {},
   "source": [
    "### Data Splitting for Training and Testing"
   ]
  },
  {
   "cell_type": "code",
   "execution_count": 8,
   "metadata": {},
   "outputs": [
    {
     "name": "stdout",
     "output_type": "stream",
     "text": [
      "Number of rows in df_all:    799999\n",
      "Number of rows in df_bank_a: 226164\n",
      "Number of rows in df_bank_b: 403240\n",
      "Number of rows in df_bank_c: 170595\n"
     ]
    }
   ],
   "source": [
    "# number of rows in each dataset\n",
    "print(f\"Number of rows in df_all:    {len(df_all)}\")\n",
    "print(f\"Number of rows in df_bank_a: {len(df_bank_a)}\")\n",
    "print(f\"Number of rows in df_bank_b: {len(df_bank_b)}\")\n",
    "print(f\"Number of rows in df_bank_c: {len(df_bank_c)}\")"
   ]
  },
  {
   "cell_type": "code",
   "execution_count": 9,
   "metadata": {},
   "outputs": [],
   "source": [
    "# Create a test set that contains 20% of the data from each bank\n",
    "df_bank_a_test = df_bank_a.sample(frac=0.2, random_state=seed_value)\n",
    "df_bank_b_test = df_bank_b.sample(frac=0.2, random_state=seed_value)\n",
    "df_bank_c_test = df_bank_c.sample(frac=0.2, random_state=seed_value)\n",
    "\n",
    "# Create a training set that contains the remaining 80% of the data from each bank\n",
    "df_bank_a_train = df_bank_a.drop(df_bank_a_test.index)\n",
    "df_bank_b_train = df_bank_b.drop(df_bank_b_test.index)\n",
    "df_bank_c_train = df_bank_c.drop(df_bank_c_test.index)\n",
    "\n",
    "# Combine the training sets into one training set\n",
    "df_train = pd.concat([df_bank_a_train, df_bank_b_train, df_bank_c_train])\n",
    "\n",
    "# Combine the test sets into one test set\n",
    "df_test = pd.concat([df_bank_a_test, df_bank_b_test, df_bank_c_test])"
   ]
  },
  {
   "cell_type": "code",
   "execution_count": 10,
   "metadata": {},
   "outputs": [],
   "source": [
    "# Split the training and test sets into X and y\n",
    "X_train = df_train.drop('income', axis=1)\n",
    "y_train = df_train['income']\n",
    "X_test = df_test.drop('income', axis=1)\n",
    "y_test = df_test['income']\n",
    "\n",
    "X_train_bank_a = df_bank_a_train.drop('income', axis=1)\n",
    "y_train_bank_a = df_bank_a_train['income']\n",
    "X_test_bank_a = df_bank_a_test.drop('income', axis=1)\n",
    "y_test_bank_a = df_bank_a_test['income']\n",
    "\n",
    "X_train_bank_b = df_bank_b_train.drop('income', axis=1)\n",
    "y_train_bank_b = df_bank_b_train['income']\n",
    "X_test_bank_b = df_bank_b_test.drop('income', axis=1)\n",
    "y_test_bank_b = df_bank_b_test['income']\n",
    "\n",
    "X_train_bank_c = df_bank_c_train.drop('income', axis=1)\n",
    "y_train_bank_c = df_bank_c_train['income']\n",
    "X_test_bank_c = df_bank_c_test.drop('income', axis=1)\n",
    "y_test_bank_c = df_bank_c_test['income']"
   ]
  },
  {
   "cell_type": "markdown",
   "metadata": {},
   "source": [
    "### Model Training"
   ]
  },
  {
   "cell_type": "markdown",
   "metadata": {},
   "source": [
    "#### Finding good hyperparameters for different models"
   ]
  },
  {
   "cell_type": "code",
   "execution_count": 10,
   "metadata": {},
   "outputs": [
    {
     "name": "stdout",
     "output_type": "stream",
     "text": [
      "{'min_samples_split': 8, 'min_samples_leaf': 14, 'max_features': 14, 'max_depth': 14, 'criterion': 'entropy'}\n",
      "0.8448341384747147\n",
      "DecisionTreeClassifier(criterion='entropy', max_depth=14, max_features=14,\n",
      "                       min_samples_leaf=14, min_samples_split=8,\n",
      "                       random_state=42)\n"
     ]
    }
   ],
   "source": [
    "# Find the best hyperparameters for a decision tree classifier\n",
    "\n",
    "# Create a decision tree classifier\n",
    "clf_dt = DecisionTreeClassifier(random_state=seed_value)\n",
    "\n",
    "# Define the grid search parameters\n",
    "param_grid_dt = {\n",
    "    'criterion': ['gini', 'entropy'],\n",
    "    'max_depth': [2, 4, 6, 8, 10, 12, 14, 16],\n",
    "    'min_samples_split': [2, 4, 6, 8, 10, 12, 14, 16],\n",
    "    'min_samples_leaf': [2, 4, 6, 8, 10, 12, 14, 16],\n",
    "    'max_features': [2, 4, 6, 8, 10, 12, 14, 16]\n",
    "}\n",
    "\n",
    "grid_search_dt = RandomizedSearchCV(estimator=clf_dt, n_iter=15, param_distributions=param_grid_dt, cv=5, n_jobs=-1, verbose=0)\n",
    "\n",
    "# Train the grid search object to find the best model and the best hyperparameters\n",
    "grid_search_dt.fit(X_train, y_train)\n",
    "\n",
    "# Print the best hyperparameters\n",
    "print(grid_search_dt.best_params_)\n",
    "print(grid_search_dt.best_score_)\n",
    "print(grid_search_dt.best_estimator_)"
   ]
  },
  {
   "cell_type": "code",
   "execution_count": 24,
   "metadata": {},
   "outputs": [
    {
     "name": "stderr",
     "output_type": "stream",
     "text": [
      "/home/leowe/git-projects/FHSTP_FML_assignment2/.venv/lib/python3.10/site-packages/sklearn/linear_model/_sag.py:350: ConvergenceWarning: The max_iter was reached which means the coef_ did not converge\n",
      "  warnings.warn(\n",
      "/home/leowe/git-projects/FHSTP_FML_assignment2/.venv/lib/python3.10/site-packages/sklearn/linear_model/_sag.py:350: ConvergenceWarning: The max_iter was reached which means the coef_ did not converge\n",
      "  warnings.warn(\n",
      "/home/leowe/git-projects/FHSTP_FML_assignment2/.venv/lib/python3.10/site-packages/sklearn/linear_model/_sag.py:350: ConvergenceWarning: The max_iter was reached which means the coef_ did not converge\n",
      "  warnings.warn(\n",
      "/home/leowe/git-projects/FHSTP_FML_assignment2/.venv/lib/python3.10/site-packages/sklearn/linear_model/_sag.py:350: ConvergenceWarning: The max_iter was reached which means the coef_ did not converge\n",
      "  warnings.warn(\n",
      "/home/leowe/git-projects/FHSTP_FML_assignment2/.venv/lib/python3.10/site-packages/sklearn/linear_model/_sag.py:350: ConvergenceWarning: The max_iter was reached which means the coef_ did not converge\n",
      "  warnings.warn(\n",
      "/home/leowe/git-projects/FHSTP_FML_assignment2/.venv/lib/python3.10/site-packages/sklearn/linear_model/_sag.py:350: ConvergenceWarning: The max_iter was reached which means the coef_ did not converge\n",
      "  warnings.warn(\n",
      "/home/leowe/git-projects/FHSTP_FML_assignment2/.venv/lib/python3.10/site-packages/sklearn/linear_model/_sag.py:350: ConvergenceWarning: The max_iter was reached which means the coef_ did not converge\n",
      "  warnings.warn(\n",
      "/home/leowe/git-projects/FHSTP_FML_assignment2/.venv/lib/python3.10/site-packages/sklearn/linear_model/_sag.py:350: ConvergenceWarning: The max_iter was reached which means the coef_ did not converge\n",
      "  warnings.warn(\n",
      "/home/leowe/git-projects/FHSTP_FML_assignment2/.venv/lib/python3.10/site-packages/sklearn/linear_model/_sag.py:350: ConvergenceWarning: The max_iter was reached which means the coef_ did not converge\n",
      "  warnings.warn(\n",
      "/home/leowe/git-projects/FHSTP_FML_assignment2/.venv/lib/python3.10/site-packages/sklearn/linear_model/_sag.py:350: ConvergenceWarning: The max_iter was reached which means the coef_ did not converge\n",
      "  warnings.warn(\n",
      "/home/leowe/git-projects/FHSTP_FML_assignment2/.venv/lib/python3.10/site-packages/sklearn/linear_model/_sag.py:350: ConvergenceWarning: The max_iter was reached which means the coef_ did not converge\n",
      "  warnings.warn(\n",
      "/home/leowe/git-projects/FHSTP_FML_assignment2/.venv/lib/python3.10/site-packages/sklearn/linear_model/_sag.py:350: ConvergenceWarning: The max_iter was reached which means the coef_ did not converge\n",
      "  warnings.warn(\n",
      "/home/leowe/git-projects/FHSTP_FML_assignment2/.venv/lib/python3.10/site-packages/sklearn/linear_model/_sag.py:350: ConvergenceWarning: The max_iter was reached which means the coef_ did not converge\n",
      "  warnings.warn(\n",
      "/home/leowe/git-projects/FHSTP_FML_assignment2/.venv/lib/python3.10/site-packages/sklearn/linear_model/_sag.py:350: ConvergenceWarning: The max_iter was reached which means the coef_ did not converge\n",
      "  warnings.warn(\n",
      "/home/leowe/git-projects/FHSTP_FML_assignment2/.venv/lib/python3.10/site-packages/sklearn/linear_model/_sag.py:350: ConvergenceWarning: The max_iter was reached which means the coef_ did not converge\n",
      "  warnings.warn(\n",
      "/home/leowe/git-projects/FHSTP_FML_assignment2/.venv/lib/python3.10/site-packages/sklearn/linear_model/_sag.py:350: ConvergenceWarning: The max_iter was reached which means the coef_ did not converge\n",
      "  warnings.warn(\n",
      "/home/leowe/git-projects/FHSTP_FML_assignment2/.venv/lib/python3.10/site-packages/sklearn/linear_model/_sag.py:350: ConvergenceWarning: The max_iter was reached which means the coef_ did not converge\n",
      "  warnings.warn(\n",
      "/home/leowe/git-projects/FHSTP_FML_assignment2/.venv/lib/python3.10/site-packages/sklearn/linear_model/_sag.py:350: ConvergenceWarning: The max_iter was reached which means the coef_ did not converge\n",
      "  warnings.warn(\n",
      "/home/leowe/git-projects/FHSTP_FML_assignment2/.venv/lib/python3.10/site-packages/sklearn/linear_model/_sag.py:350: ConvergenceWarning: The max_iter was reached which means the coef_ did not converge\n",
      "  warnings.warn(\n",
      "/home/leowe/git-projects/FHSTP_FML_assignment2/.venv/lib/python3.10/site-packages/sklearn/linear_model/_sag.py:350: ConvergenceWarning: The max_iter was reached which means the coef_ did not converge\n",
      "  warnings.warn(\n",
      "/home/leowe/git-projects/FHSTP_FML_assignment2/.venv/lib/python3.10/site-packages/sklearn/linear_model/_sag.py:350: ConvergenceWarning: The max_iter was reached which means the coef_ did not converge\n",
      "  warnings.warn(\n",
      "/home/leowe/git-projects/FHSTP_FML_assignment2/.venv/lib/python3.10/site-packages/sklearn/linear_model/_sag.py:350: ConvergenceWarning: The max_iter was reached which means the coef_ did not converge\n",
      "  warnings.warn(\n",
      "/home/leowe/git-projects/FHSTP_FML_assignment2/.venv/lib/python3.10/site-packages/sklearn/linear_model/_sag.py:350: ConvergenceWarning: The max_iter was reached which means the coef_ did not converge\n",
      "  warnings.warn(\n",
      "/home/leowe/git-projects/FHSTP_FML_assignment2/.venv/lib/python3.10/site-packages/sklearn/linear_model/_sag.py:350: ConvergenceWarning: The max_iter was reached which means the coef_ did not converge\n",
      "  warnings.warn(\n",
      "/home/leowe/git-projects/FHSTP_FML_assignment2/.venv/lib/python3.10/site-packages/sklearn/linear_model/_sag.py:350: ConvergenceWarning: The max_iter was reached which means the coef_ did not converge\n",
      "  warnings.warn(\n"
     ]
    },
    {
     "name": "stdout",
     "output_type": "stream",
     "text": [
      "{'solver': 'liblinear', 'penalty': 'l2', 'max_iter': 2000, 'C': 0.001}\n",
      "0.8368231845683365\n",
      "LogisticRegression(C=0.001, max_iter=2000, random_state=42, solver='liblinear')\n"
     ]
    }
   ],
   "source": [
    "# Find the best hyperparameters for a logistic regression classifier\n",
    "\n",
    "# Create a logistic regression classifier\n",
    "clf_lr = LogisticRegression(random_state=seed_value)\n",
    "\n",
    "# Define the grid search parameters\n",
    "param_grid_lg = {\n",
    "    'penalty': ['l1', 'l2'],\n",
    "    'C': [0.001, 0.01, 0.1, 1, 10, 100],\n",
    "    'solver': ['liblinear', 'saga'],\n",
    "    'max_iter': [500, 1000, 2000],\n",
    "}\n",
    "\n",
    "grid_search_lg = RandomizedSearchCV(estimator=clf_lr, n_iter=15, param_distributions=param_grid_lg, cv=5, n_jobs=-1, verbose=0)\n",
    "\n",
    "# Train the grid search object to find the best model and the best hyperparameters\n",
    "grid_search_lg.fit(X_train, y_train)\n",
    "\n",
    "# Print the best hyperparameters\n",
    "print(grid_search_lg.best_params_)\n",
    "print(grid_search_lg.best_score_)\n",
    "print(grid_search_lg.best_estimator_)"
   ]
  },
  {
   "cell_type": "code",
   "execution_count": 25,
   "metadata": {},
   "outputs": [
    {
     "name": "stdout",
     "output_type": "stream",
     "text": [
      "{'n_estimators': 5, 'min_samples_split': 128, 'min_samples_leaf': 16, 'max_features': 16, 'max_depth': 12, 'criterion': 'entropy'}\n",
      "0.8488435197125563\n",
      "RandomForestClassifier(criterion='entropy', max_depth=12, max_features=16,\n",
      "                       min_samples_leaf=16, min_samples_split=128,\n",
      "                       n_estimators=5, random_state=42)\n"
     ]
    }
   ],
   "source": [
    "# Find the best hyperparameters for a random forest classifier\n",
    "\n",
    "# Create a random forest classifier\n",
    "clf_rf = RandomForestClassifier(random_state=seed_value)\n",
    "\n",
    "# Define the grid search parameters\n",
    "param_grid_rf = {\n",
    "    'n_estimators': [3, 5, 7, 9],\n",
    "    'criterion': ['gini', 'entropy'],\n",
    "    'max_depth': [2, 10, 12, 14, 16, 32],\n",
    "    'min_samples_split': [10, 32, 128, 256, 512, 1024],\n",
    "    'min_samples_leaf': [16, 32, 64, 128, 256],\n",
    "    'max_features': [2, 4, 6, 8, 10, 12, 14, 16]\n",
    "}\n",
    "\n",
    "grid_search_rf = RandomizedSearchCV(estimator=clf_rf, n_iter=15, param_distributions=param_grid_rf, cv=5, n_jobs=-1, verbose=0)\n",
    "\n",
    "# Train the grid search object to find the best model and the best hyperparameters\n",
    "grid_search_rf.fit(X_train, y_train)\n",
    "\n",
    "# Print the best hyperparameters\n",
    "print(grid_search_rf.best_params_)\n",
    "print(grid_search_rf.best_score_)\n",
    "print(grid_search_rf.best_estimator_)"
   ]
  },
  {
   "cell_type": "code",
   "execution_count": 26,
   "metadata": {},
   "outputs": [
    {
     "name": "stdout",
     "output_type": "stream",
     "text": [
      "{'n_estimators': 200, 'min_samples_split': 128, 'min_samples_leaf': 16, 'max_features': 6, 'max_depth': 2, 'learning_rate': 1}\n",
      "0.8517357181867631\n",
      "GradientBoostingClassifier(learning_rate=1, max_depth=2, max_features=6,\n",
      "                           min_samples_leaf=16, min_samples_split=128,\n",
      "                           n_estimators=200, random_state=42)\n"
     ]
    }
   ],
   "source": [
    "# Find the best hyperparameters for a gradient boosting classifier\n",
    "\n",
    "# Create a gradient boosting classifier\n",
    "clf_gb = GradientBoostingClassifier(random_state=seed_value)\n",
    "\n",
    "# Define the grid search parameters\n",
    "param_grid_gb = {\n",
    "    'n_estimators': [3, 9, 50, 100, 200, 500],\n",
    "    'learning_rate': [0.001, 0.01, 0.1, 1, 10, 100],\n",
    "    'max_depth': [2, 4, 6, 8, 10, 12, 36],\n",
    "    'min_samples_split': [10, 12, 14, 16, 32, 128],\n",
    "    'min_samples_leaf': [16, 32, 64, 128, 256],\n",
    "    'max_features': [2, 4, 6, 8, 16, 20, 32]\n",
    "}\n",
    "\n",
    "grid_search_gb = RandomizedSearchCV(estimator=clf_gb, n_iter=15, param_distributions=param_grid_gb, cv=5, n_jobs=-1, verbose=0)\n",
    "\n",
    "# Train the grid search object to find the best model and the best hyperparameters\n",
    "grid_search_gb.fit(X_train, y_train)\n",
    "\n",
    "# Print the best hyperparameters\n",
    "print(grid_search_gb.best_params_)\n",
    "print(grid_search_gb.best_score_)\n",
    "print(grid_search_gb.best_estimator_)"
   ]
  },
  {
   "cell_type": "markdown",
   "metadata": {},
   "source": [
    "#### Train a model with all data from all banks"
   ]
  },
  {
   "cell_type": "code",
   "execution_count": 27,
   "metadata": {},
   "outputs": [],
   "source": [
    "# Define and Train the models with the best hyperparameters\n",
    "model_global_dt = clone(grid_search_dt.best_estimator_).fit(X_train, y_train)\n",
    "model_global_lg = clone(grid_search_lg.best_estimator_).fit(X_train, y_train)\n",
    "model_global_rf = clone(grid_search_rf.best_estimator_).fit(X_train, y_train)\n",
    "model_global_gb = clone(grid_search_gb.best_estimator_).fit(X_train, y_train)\n",
    "\n",
    "model_bank_a_dt = clone(grid_search_dt.best_estimator_).fit(X_train_bank_a, y_train_bank_a)\n",
    "model_bank_a_lg = clone(grid_search_lg.best_estimator_).fit(X_train_bank_a, y_train_bank_a)\n",
    "model_bank_a_rf = clone(grid_search_rf.best_estimator_).fit(X_train_bank_a, y_train_bank_a)\n",
    "model_bank_a_gb = clone(grid_search_gb.best_estimator_).fit(X_train_bank_a, y_train_bank_a)\n",
    "\n",
    "model_bank_b_dt = clone(grid_search_dt.best_estimator_).fit(X_train_bank_b, y_train_bank_b)\n",
    "model_bank_b_lg = clone(grid_search_lg.best_estimator_).fit(X_train_bank_b, y_train_bank_b)\n",
    "model_bank_b_rf = clone(grid_search_rf.best_estimator_).fit(X_train_bank_b, y_train_bank_b)\n",
    "model_bank_b_gb = clone(grid_search_gb.best_estimator_).fit(X_train_bank_b, y_train_bank_b)\n",
    "\n",
    "model_bank_c_dt = clone(grid_search_dt.best_estimator_).fit(X_train_bank_c, y_train_bank_c)\n",
    "model_bank_c_lg = clone(grid_search_lg.best_estimator_).fit(X_train_bank_c, y_train_bank_c)\n",
    "model_bank_c_rf = clone(grid_search_rf.best_estimator_).fit(X_train_bank_c, y_train_bank_c)\n",
    "model_bank_c_gb = clone(grid_search_gb.best_estimator_).fit(X_train_bank_c, y_train_bank_c)"
   ]
  },
  {
   "cell_type": "code",
   "execution_count": 32,
   "metadata": {},
   "outputs": [
    {
     "data": {
      "text/plain": [
       "['./models/model_bank_c_gb.pkl']"
      ]
     },
     "execution_count": 32,
     "metadata": {},
     "output_type": "execute_result"
    }
   ],
   "source": [
    "# Export the trained models\n",
    "joblib.dump(model_global_dt, './models/model_global_dt.pkl')\n",
    "joblib.dump(model_global_lg, './models/model_global_lg.pkl')\n",
    "joblib.dump(model_global_rf, './models/model_global_rf.pkl')\n",
    "joblib.dump(model_global_gb, './models/model_global_gb.pkl')\n",
    "\n",
    "joblib.dump(model_bank_a_dt, './models/model_bank_a_dt.pkl')\n",
    "joblib.dump(model_bank_a_lg, './models/model_bank_a_lg.pkl')\n",
    "joblib.dump(model_bank_a_rf, './models/model_bank_a_rf.pkl')\n",
    "joblib.dump(model_bank_a_gb, './models/model_bank_a_gb.pkl')\n",
    "\n",
    "joblib.dump(model_bank_b_dt, './models/model_bank_b_dt.pkl')\n",
    "joblib.dump(model_bank_b_lg, './models/model_bank_b_lg.pkl')\n",
    "joblib.dump(model_bank_b_rf, './models/model_bank_b_rf.pkl')\n",
    "joblib.dump(model_bank_b_gb, './models/model_bank_b_gb.pkl')\n",
    "\n",
    "joblib.dump(model_bank_c_dt, './models/model_bank_c_dt.pkl')\n",
    "joblib.dump(model_bank_c_lg, './models/model_bank_c_lg.pkl')\n",
    "joblib.dump(model_bank_c_rf, './models/model_bank_c_rf.pkl')\n",
    "joblib.dump(model_bank_c_gb, './models/model_bank_c_gb.pkl')"
   ]
  },
  {
   "cell_type": "markdown",
   "metadata": {},
   "source": [
    "#### Evaluate all the models"
   ]
  },
  {
   "cell_type": "code",
   "execution_count": 28,
   "metadata": {},
   "outputs": [],
   "source": [
    "# Evaluate the global models on the global test set\n",
    "\n",
    "## Predict\n",
    "y_pred_global_global_dt = model_global_dt.predict(X_test)\n",
    "y_pred_global_global_lg = model_global_lg.predict(X_test)\n",
    "y_pred_global_global_rf = model_global_rf.predict(X_test)\n",
    "y_pred_global_global_gb = model_global_gb.predict(X_test)\n",
    "## Metrics\n",
    "acc_global_global_dt = accuracy_score(y_test, y_pred_global_global_dt)\n",
    "acc_global_global_lg = accuracy_score(y_test, y_pred_global_global_lg)\n",
    "acc_global_global_rf = accuracy_score(y_test, y_pred_global_global_rf)\n",
    "acc_global_global_gb = accuracy_score(y_test, y_pred_global_global_gb)\n",
    "f1_global_global_dt = f1_score(y_test, y_pred_global_global_dt)\n",
    "f1_global_global_lg = f1_score(y_test, y_pred_global_global_lg)\n",
    "f1_global_global_rf = f1_score(y_test, y_pred_global_global_rf)\n",
    "f1_global_global_gb = f1_score(y_test, y_pred_global_global_gb)\n",
    "kappa_global_global_dt = cohen_kappa_score(y_test, y_pred_global_global_dt)\n",
    "kappa_global_global_lg = cohen_kappa_score(y_test, y_pred_global_global_lg)\n",
    "kappa_global_global_rf = cohen_kappa_score(y_test, y_pred_global_global_rf)\n",
    "kappa_global_global_gb = cohen_kappa_score(y_test, y_pred_global_global_gb)\n",
    "\n",
    "\n",
    "# Evaluate the global models on the bank A, B and C test sets\n",
    "## Predict\n",
    "y_pred_global_bank_a_dt = model_global_dt.predict(X_test_bank_a)\n",
    "y_pred_global_bank_a_lg = model_global_lg.predict(X_test_bank_a)\n",
    "y_pred_global_bank_a_rf = model_global_rf.predict(X_test_bank_a)\n",
    "y_pred_global_bank_a_gb = model_global_gb.predict(X_test_bank_a)\n",
    "\n",
    "y_pred_global_bank_b_dt = model_global_dt.predict(X_test_bank_b)\n",
    "y_pred_global_bank_b_lg = model_global_lg.predict(X_test_bank_b)\n",
    "y_pred_global_bank_b_rf = model_global_rf.predict(X_test_bank_b)\n",
    "y_pred_global_bank_b_gb = model_global_gb.predict(X_test_bank_b)\n",
    "\n",
    "y_pred_global_bank_c_dt = model_global_dt.predict(X_test_bank_c)\n",
    "y_pred_global_bank_c_lg = model_global_lg.predict(X_test_bank_c)\n",
    "y_pred_global_bank_c_rf = model_global_rf.predict(X_test_bank_c)\n",
    "y_pred_global_bank_c_gb = model_global_gb.predict(X_test_bank_c)\n",
    "## Metrics\n",
    "acc_global_bank_a_dt = accuracy_score(y_test_bank_a, y_pred_global_bank_a_dt)\n",
    "acc_global_bank_a_lg = accuracy_score(y_test_bank_a, y_pred_global_bank_a_lg)\n",
    "acc_global_bank_a_rf = accuracy_score(y_test_bank_a, y_pred_global_bank_a_rf)\n",
    "acc_global_bank_a_gb = accuracy_score(y_test_bank_a, y_pred_global_bank_a_gb)\n",
    "f1_global_bank_a_dt = f1_score(y_test_bank_a, y_pred_global_bank_a_dt)\n",
    "f1_global_bank_a_lg = f1_score(y_test_bank_a, y_pred_global_bank_a_lg)\n",
    "f1_global_bank_a_rf = f1_score(y_test_bank_a, y_pred_global_bank_a_rf)\n",
    "f1_global_bank_a_gb = f1_score(y_test_bank_a, y_pred_global_bank_a_gb)\n",
    "kappa_global_bank_a_dt = cohen_kappa_score(y_test_bank_a, y_pred_global_bank_a_dt)\n",
    "kappa_global_bank_a_lg = cohen_kappa_score(y_test_bank_a, y_pred_global_bank_a_lg)\n",
    "kappa_global_bank_a_rf = cohen_kappa_score(y_test_bank_a, y_pred_global_bank_a_rf)\n",
    "kappa_global_bank_a_gb = cohen_kappa_score(y_test_bank_a, y_pred_global_bank_a_gb)\n",
    "\n",
    "acc_global_bank_b_dt = accuracy_score(y_test_bank_b, y_pred_global_bank_b_dt)\n",
    "acc_global_bank_b_lg = accuracy_score(y_test_bank_b, y_pred_global_bank_b_lg)\n",
    "acc_global_bank_b_rf = accuracy_score(y_test_bank_b, y_pred_global_bank_b_rf)\n",
    "acc_global_bank_b_gb = accuracy_score(y_test_bank_b, y_pred_global_bank_b_gb)\n",
    "f1_global_bank_b_dt = f1_score(y_test_bank_b, y_pred_global_bank_b_dt)\n",
    "f1_global_bank_b_lg = f1_score(y_test_bank_b, y_pred_global_bank_b_lg)\n",
    "f1_global_bank_b_rf = f1_score(y_test_bank_b, y_pred_global_bank_b_rf)\n",
    "f1_global_bank_b_gb = f1_score(y_test_bank_b, y_pred_global_bank_b_gb)\n",
    "kappa_global_bank_b_dt = cohen_kappa_score(y_test_bank_b, y_pred_global_bank_b_dt)\n",
    "kappa_global_bank_b_lg = cohen_kappa_score(y_test_bank_b, y_pred_global_bank_b_lg)\n",
    "kappa_global_bank_b_rf = cohen_kappa_score(y_test_bank_b, y_pred_global_bank_b_rf)\n",
    "kappa_global_bank_b_gb = cohen_kappa_score(y_test_bank_b, y_pred_global_bank_b_gb)\n",
    "\n",
    "acc_global_bank_c_dt = accuracy_score(y_test_bank_c, y_pred_global_bank_c_dt)\n",
    "acc_global_bank_c_lg = accuracy_score(y_test_bank_c, y_pred_global_bank_c_lg)\n",
    "acc_global_bank_c_rf = accuracy_score(y_test_bank_c, y_pred_global_bank_c_rf)\n",
    "acc_global_bank_c_gb = accuracy_score(y_test_bank_c, y_pred_global_bank_c_gb)\n",
    "f1_global_bank_c_dt = f1_score(y_test_bank_c, y_pred_global_bank_c_dt)\n",
    "f1_global_bank_c_lg = f1_score(y_test_bank_c, y_pred_global_bank_c_lg)\n",
    "f1_global_bank_c_rf = f1_score(y_test_bank_c, y_pred_global_bank_c_rf)\n",
    "f1_global_bank_c_gb = f1_score(y_test_bank_c, y_pred_global_bank_c_gb)\n",
    "kappa_global_bank_c_dt = cohen_kappa_score(y_test_bank_c, y_pred_global_bank_c_dt)\n",
    "kappa_global_bank_c_lg = cohen_kappa_score(y_test_bank_c, y_pred_global_bank_c_lg)\n",
    "kappa_global_bank_c_rf = cohen_kappa_score(y_test_bank_c, y_pred_global_bank_c_rf)\n",
    "kappa_global_bank_c_gb = cohen_kappa_score(y_test_bank_c, y_pred_global_bank_c_gb)\n",
    "\n",
    "\n",
    "# Evaluate the bank A models on the bank A test set\n",
    "## Predict\n",
    "y_pred_bank_a_bank_a_dt = model_bank_a_dt.predict(X_test_bank_a)\n",
    "y_pred_bank_a_bank_a_lg = model_bank_a_lg.predict(X_test_bank_a)\n",
    "y_pred_bank_a_bank_a_rf = model_bank_a_rf.predict(X_test_bank_a)\n",
    "y_pred_bank_a_bank_a_gb = model_bank_a_gb.predict(X_test_bank_a)\n",
    "## Metrics\n",
    "acc_bank_a_bank_a_dt = accuracy_score(y_test_bank_a, y_pred_bank_a_bank_a_dt)\n",
    "acc_bank_a_bank_a_lg = accuracy_score(y_test_bank_a, y_pred_bank_a_bank_a_lg)\n",
    "acc_bank_a_bank_a_rf = accuracy_score(y_test_bank_a, y_pred_bank_a_bank_a_rf)\n",
    "acc_bank_a_bank_a_gb = accuracy_score(y_test_bank_a, y_pred_bank_a_bank_a_gb)\n",
    "f1_bank_a_bank_a_dt = f1_score(y_test_bank_a, y_pred_bank_a_bank_a_dt)\n",
    "f1_bank_a_bank_a_lg = f1_score(y_test_bank_a, y_pred_bank_a_bank_a_lg)\n",
    "f1_bank_a_bank_a_rf = f1_score(y_test_bank_a, y_pred_bank_a_bank_a_rf)\n",
    "f1_bank_a_bank_a_gb = f1_score(y_test_bank_a, y_pred_bank_a_bank_a_gb)\n",
    "kappa_bank_a_bank_a_dt = cohen_kappa_score(y_test_bank_a, y_pred_bank_a_bank_a_dt)\n",
    "kappa_bank_a_bank_a_lg = cohen_kappa_score(y_test_bank_a, y_pred_bank_a_bank_a_lg)\n",
    "kappa_bank_a_bank_a_rf = cohen_kappa_score(y_test_bank_a, y_pred_bank_a_bank_a_rf)\n",
    "kappa_bank_a_bank_a_gb = cohen_kappa_score(y_test_bank_a, y_pred_bank_a_bank_a_gb)\n",
    "\n",
    "\n",
    "# Evaluate the bank B models on the bank B test set\n",
    "## Predict\n",
    "y_pred_bank_b_bank_b_dt = model_bank_b_dt.predict(X_test_bank_b)\n",
    "y_pred_bank_b_bank_b_lg = model_bank_b_lg.predict(X_test_bank_b)\n",
    "y_pred_bank_b_bank_b_rf = model_bank_b_rf.predict(X_test_bank_b)\n",
    "y_pred_bank_b_bank_b_gb = model_bank_b_gb.predict(X_test_bank_b)\n",
    "## Metrics\n",
    "acc_bank_b_bank_b_dt = accuracy_score(y_test_bank_b, y_pred_bank_b_bank_b_dt)\n",
    "acc_bank_b_bank_b_lg = accuracy_score(y_test_bank_b, y_pred_bank_b_bank_b_lg)\n",
    "acc_bank_b_bank_b_rf = accuracy_score(y_test_bank_b, y_pred_bank_b_bank_b_rf)\n",
    "acc_bank_b_bank_b_gb = accuracy_score(y_test_bank_b, y_pred_bank_b_bank_b_gb)\n",
    "f1_bank_b_bank_b_dt = f1_score(y_test_bank_b, y_pred_bank_b_bank_b_dt)\n",
    "f1_bank_b_bank_b_lg = f1_score(y_test_bank_b, y_pred_bank_b_bank_b_lg)\n",
    "f1_bank_b_bank_b_rf = f1_score(y_test_bank_b, y_pred_bank_b_bank_b_rf)\n",
    "f1_bank_b_bank_b_gb = f1_score(y_test_bank_b, y_pred_bank_b_bank_b_gb)\n",
    "kappa_bank_b_bank_b_dt = cohen_kappa_score(y_test_bank_b, y_pred_bank_b_bank_b_dt)\n",
    "kappa_bank_b_bank_b_lg = cohen_kappa_score(y_test_bank_b, y_pred_bank_b_bank_b_lg)\n",
    "kappa_bank_b_bank_b_rf = cohen_kappa_score(y_test_bank_b, y_pred_bank_b_bank_b_rf)\n",
    "kappa_bank_b_bank_b_gb = cohen_kappa_score(y_test_bank_b, y_pred_bank_b_bank_b_gb)\n",
    "\n",
    "\n",
    "# Evaluate the bank C models on the bank C test set\n",
    "## Predict\n",
    "y_pred_bank_c_bank_c_dt = model_bank_c_dt.predict(X_test_bank_c)\n",
    "y_pred_bank_c_bank_c_lg = model_bank_c_lg.predict(X_test_bank_c)\n",
    "y_pred_bank_c_bank_c_rf = model_bank_c_rf.predict(X_test_bank_c)\n",
    "y_pred_bank_c_bank_c_gb = model_bank_c_gb.predict(X_test_bank_c)\n",
    "## Metrics\n",
    "acc_bank_c_bank_c_dt = accuracy_score(y_test_bank_c, y_pred_bank_c_bank_c_dt)\n",
    "acc_bank_c_bank_c_lg = accuracy_score(y_test_bank_c, y_pred_bank_c_bank_c_lg)\n",
    "acc_bank_c_bank_c_rf = accuracy_score(y_test_bank_c, y_pred_bank_c_bank_c_rf)\n",
    "acc_bank_c_bank_c_gb = accuracy_score(y_test_bank_c, y_pred_bank_c_bank_c_gb)\n",
    "f1_bank_c_bank_c_dt = f1_score(y_test_bank_c, y_pred_bank_c_bank_c_dt)\n",
    "f1_bank_c_bank_c_lg = f1_score(y_test_bank_c, y_pred_bank_c_bank_c_lg)\n",
    "f1_bank_c_bank_c_rf = f1_score(y_test_bank_c, y_pred_bank_c_bank_c_rf)\n",
    "f1_bank_c_bank_c_gb = f1_score(y_test_bank_c, y_pred_bank_c_bank_c_gb)\n",
    "kappa_bank_c_bank_c_dt = cohen_kappa_score(y_test_bank_c, y_pred_bank_c_bank_c_dt)\n",
    "kappa_bank_c_bank_c_lg = cohen_kappa_score(y_test_bank_c, y_pred_bank_c_bank_c_lg)\n",
    "kappa_bank_c_bank_c_rf = cohen_kappa_score(y_test_bank_c, y_pred_bank_c_bank_c_rf)\n",
    "kappa_bank_c_bank_c_gb = cohen_kappa_score(y_test_bank_c, y_pred_bank_c_bank_c_gb)"
   ]
  },
  {
   "cell_type": "code",
   "execution_count": 29,
   "metadata": {},
   "outputs": [],
   "source": [
    "# Store all metrics in a dataframe with columns: modeltype, explainability, model, dataset , accuracy, f1, kappa\n",
    "df_metrics = pd.DataFrame(columns=['modeltype', 'explainability', 'model', 'dataset', 'accuracy', 'f1', 'kappa'])\n",
    "\n",
    "# Add the global models to the dataframe\n",
    "df_metrics = pd.concat([df_metrics, pd.DataFrame({'modeltype': 'decision tree', 'explainability': 'high', 'model': 'global model', 'dataset': 'global dataset', 'accuracy': acc_global_global_dt, 'f1': f1_global_global_dt, 'kappa': kappa_global_global_dt}, index=[0])], ignore_index=True)\n",
    "df_metrics = pd.concat([df_metrics, pd.DataFrame({'modeltype': 'logistic regression', 'explainability': 'high', 'model': 'global model', 'dataset': 'global dataset', 'accuracy': acc_global_global_lg, 'f1': f1_global_global_lg, 'kappa': kappa_global_global_lg}, index=[0])], ignore_index=True)\n",
    "df_metrics = pd.concat([df_metrics, pd.DataFrame({'modeltype': 'random forest', 'explainability': 'low', 'model': 'global model', 'dataset': 'global dataset', 'accuracy': acc_global_global_rf, 'f1': f1_global_global_rf, 'kappa': kappa_global_global_rf}, index=[0])], ignore_index=True)\n",
    "df_metrics = pd.concat([df_metrics, pd.DataFrame({'modeltype': 'gradient boosting', 'explainability': 'low', 'model': 'global model', 'dataset': 'global dataset', 'accuracy': acc_global_global_gb, 'f1': f1_global_global_gb, 'kappa': kappa_global_global_gb}, index=[0])], ignore_index=True)\n",
    "df_metrics = pd.concat([df_metrics, pd.DataFrame({'modeltype': 'decision tree', 'explainability': 'high', 'model': 'global model', 'dataset': 'bank A dataset', 'accuracy': acc_global_bank_a_dt, 'f1': f1_global_bank_a_dt, 'kappa': kappa_global_bank_a_dt}, index=[0])], ignore_index=True)\n",
    "df_metrics = pd.concat([df_metrics, pd.DataFrame({'modeltype': 'logistic regression', 'explainability': 'high', 'model': 'global model', 'dataset': 'bank A dataset', 'accuracy': acc_global_bank_a_lg, 'f1': f1_global_bank_a_lg, 'kappa': kappa_global_bank_a_lg}, index=[0])], ignore_index=True)\n",
    "df_metrics = pd.concat([df_metrics, pd.DataFrame({'modeltype': 'random forest', 'explainability': 'low', 'model': 'global model', 'dataset': 'bank A dataset', 'accuracy': acc_global_bank_a_rf, 'f1': f1_global_bank_a_rf, 'kappa': kappa_global_bank_a_rf}, index=[0])], ignore_index=True)\n",
    "df_metrics = pd.concat([df_metrics, pd.DataFrame({'modeltype': 'gradient boosting', 'explainability': 'low', 'model': 'global model', 'dataset': 'bank A dataset', 'accuracy': acc_global_bank_a_gb, 'f1': f1_global_bank_a_gb, 'kappa': kappa_global_bank_a_gb}, index=[0])], ignore_index=True)\n",
    "df_metrics = pd.concat([df_metrics, pd.DataFrame({'modeltype': 'decision tree', 'explainability': 'high', 'model': 'global model', 'dataset': 'bank B dataset', 'accuracy': acc_global_bank_b_dt, 'f1': f1_global_bank_b_dt, 'kappa': kappa_global_bank_b_dt}, index=[0])], ignore_index=True)\n",
    "df_metrics = pd.concat([df_metrics, pd.DataFrame({'modeltype': 'logistic regression', 'explainability': 'high', 'model': 'global model', 'dataset': 'bank B dataset', 'accuracy': acc_global_bank_b_lg, 'f1': f1_global_bank_b_lg, 'kappa': kappa_global_bank_b_lg}, index=[0])], ignore_index=True)\n",
    "df_metrics = pd.concat([df_metrics, pd.DataFrame({'modeltype': 'random forest', 'explainability': 'low', 'model': 'global model', 'dataset': 'bank B dataset', 'accuracy': acc_global_bank_b_rf, 'f1': f1_global_bank_b_rf, 'kappa': kappa_global_bank_b_rf}, index=[0])], ignore_index=True)\n",
    "df_metrics = pd.concat([df_metrics, pd.DataFrame({'modeltype': 'gradient boosting', 'explainability': 'low', 'model': 'global model', 'dataset': 'bank B dataset', 'accuracy': acc_global_bank_b_gb, 'f1': f1_global_bank_b_gb, 'kappa': kappa_global_bank_b_gb}, index=[0])], ignore_index=True)\n",
    "df_metrics = pd.concat([df_metrics, pd.DataFrame({'modeltype': 'decision tree', 'explainability': 'high', 'model': 'global model', 'dataset': 'bank C dataset', 'accuracy': acc_global_bank_c_dt, 'f1': f1_global_bank_c_dt, 'kappa': kappa_global_bank_c_dt}, index=[0])], ignore_index=True)\n",
    "df_metrics = pd.concat([df_metrics, pd.DataFrame({'modeltype': 'logistic regression', 'explainability': 'high', 'model': 'global model', 'dataset': 'bank C dataset', 'accuracy': acc_global_bank_c_lg, 'f1': f1_global_bank_c_lg, 'kappa': kappa_global_bank_c_lg}, index=[0])], ignore_index=True)\n",
    "df_metrics = pd.concat([df_metrics, pd.DataFrame({'modeltype': 'random forest', 'explainability': 'low', 'model': 'global model', 'dataset': 'bank C dataset', 'accuracy': acc_global_bank_c_rf, 'f1': f1_global_bank_c_rf, 'kappa': kappa_global_bank_c_rf}, index=[0])], ignore_index=True)\n",
    "df_metrics = pd.concat([df_metrics, pd.DataFrame({'modeltype': 'gradient boosting', 'explainability': 'low', 'model': 'global model', 'dataset': 'bank C dataset', 'accuracy': acc_global_bank_c_gb, 'f1': f1_global_bank_c_gb, 'kappa': kappa_global_bank_c_gb}, index=[0])], ignore_index=True)\n",
    "\n",
    "# Add the bank A models to the dataframe\n",
    "df_metrics = pd.concat([df_metrics, pd.DataFrame({'modeltype': 'decision tree', 'explainability': 'high', 'model': 'bank A model', 'dataset': 'bank A dataset', 'accuracy': acc_bank_a_bank_a_dt, 'f1': f1_bank_a_bank_a_dt, 'kappa': kappa_bank_a_bank_a_dt}, index=[0])], ignore_index=True)\n",
    "df_metrics = pd.concat([df_metrics, pd.DataFrame({'modeltype': 'logistic regression', 'explainability': 'high', 'model': 'bank A model', 'dataset': 'bank A dataset', 'accuracy': acc_bank_a_bank_a_lg, 'f1': f1_bank_a_bank_a_lg, 'kappa': kappa_bank_a_bank_a_lg}, index=[0])], ignore_index=True)\n",
    "df_metrics = pd.concat([df_metrics, pd.DataFrame({'modeltype': 'random forest', 'explainability': 'low', 'model': 'bank A model', 'dataset': 'bank A dataset', 'accuracy': acc_bank_a_bank_a_rf, 'f1': f1_bank_a_bank_a_rf, 'kappa': kappa_bank_a_bank_a_rf}, index=[0])], ignore_index=True)\n",
    "df_metrics = pd.concat([df_metrics, pd.DataFrame({'modeltype': 'gradient boosting', 'explainability': 'low', 'model': 'bank A model', 'dataset': 'bank A dataset', 'accuracy': acc_bank_a_bank_a_gb, 'f1': f1_bank_a_bank_a_gb, 'kappa': kappa_bank_a_bank_a_gb}, index=[0])], ignore_index=True)\n",
    "\n",
    "# Add the bank B models to the dataframe\n",
    "df_metrics = pd.concat([df_metrics, pd.DataFrame({'modeltype': 'decision tree', 'explainability': 'high', 'model': 'bank B model', 'dataset': 'bank B dataset', 'accuracy': acc_bank_b_bank_b_dt, 'f1': f1_bank_b_bank_b_dt, 'kappa': kappa_bank_b_bank_b_dt}, index=[0])], ignore_index=True)\n",
    "df_metrics = pd.concat([df_metrics, pd.DataFrame({'modeltype': 'logistic regression', 'explainability': 'high', 'model': 'bank B model', 'dataset': 'bank B dataset', 'accuracy': acc_bank_b_bank_b_lg, 'f1': f1_bank_b_bank_b_lg, 'kappa': kappa_bank_b_bank_b_lg}, index=[0])], ignore_index=True)\n",
    "df_metrics = pd.concat([df_metrics, pd.DataFrame({'modeltype': 'random forest', 'explainability': 'low', 'model': 'bank B model', 'dataset': 'bank B dataset', 'accuracy': acc_bank_b_bank_b_rf, 'f1': f1_bank_b_bank_b_rf, 'kappa': kappa_bank_b_bank_b_rf}, index=[0])], ignore_index=True)\n",
    "df_metrics = pd.concat([df_metrics, pd.DataFrame({'modeltype': 'gradient boosting', 'explainability': 'low', 'model': 'bank B model', 'dataset': 'bank B dataset', 'accuracy': acc_bank_b_bank_b_gb, 'f1': f1_bank_b_bank_b_gb, 'kappa': kappa_bank_b_bank_b_gb}, index=[0])], ignore_index=True)\n",
    "\n",
    "# Add the bank C models to the dataframe\n",
    "df_metrics = pd.concat([df_metrics, pd.DataFrame({'modeltype': 'decision tree', 'explainability': 'high', 'model': 'bank C model', 'dataset': 'bank C dataset', 'accuracy': acc_bank_c_bank_c_dt, 'f1': f1_bank_c_bank_c_dt, 'kappa': kappa_bank_c_bank_c_dt}, index=[0])], ignore_index=True)\n",
    "df_metrics = pd.concat([df_metrics, pd.DataFrame({'modeltype': 'logistic regression', 'explainability': 'high', 'model': 'bank C model', 'dataset': 'bank C dataset', 'accuracy': acc_bank_c_bank_c_lg, 'f1': f1_bank_c_bank_c_lg, 'kappa': kappa_bank_c_bank_c_lg}, index=[0])], ignore_index=True)\n",
    "df_metrics = pd.concat([df_metrics, pd.DataFrame({'modeltype': 'random forest', 'explainability': 'low', 'model': 'bank C model', 'dataset': 'bank C dataset', 'accuracy': acc_bank_c_bank_c_rf, 'f1': f1_bank_c_bank_c_rf, 'kappa': kappa_bank_c_bank_c_rf}, index=[0])], ignore_index=True)\n",
    "df_metrics = pd.concat([df_metrics, pd.DataFrame({'modeltype': 'gradient boosting', 'explainability': 'low', 'model': 'bank C model', 'dataset': 'bank C dataset', 'accuracy': acc_bank_c_bank_c_gb, 'f1': f1_bank_c_bank_c_gb, 'kappa': kappa_bank_c_bank_c_gb}, index=[0])], ignore_index=True)"
   ]
  },
  {
   "cell_type": "code",
   "execution_count": 33,
   "metadata": {},
   "outputs": [],
   "source": [
    "# Rename dataset to testdataset\n",
    "df_metrics = df_metrics.rename(columns={'dataset': 'testdataset'})"
   ]
  },
  {
   "cell_type": "code",
   "execution_count": 35,
   "metadata": {},
   "outputs": [
    {
     "data": {
      "image/png": "[encoded data removed]",
      "text/plain": [
       "<Figure size 900x600 with 1 Axes>"
      ]
     },
     "metadata": {},
     "output_type": "display_data"
    }
   ],
   "source": [
    "sns.set_theme(style=\"whitegrid\")\n",
    "sns.set(rc={'figure.figsize':(9,6)})\n",
    "sns.set(font_scale=1.5)\n",
    "ax = sns.scatterplot(x=\"model\", y=\"accuracy\", hue=\"testdataset\", style=\"modeltype\", data=df_metrics[df_metrics['testdataset'] != 'global dataset'], s=150, alpha=0.75)\n",
    "ax.set(xlabel='model', ylabel='accuracy')\n",
    "# Rename the legend titles\n",
    "plt.legend(bbox_to_anchor=(1.05, 1), loc=2, borderaxespad=0.)\n",
    "plt.show()"
   ]
  },
  {
   "cell_type": "markdown",
   "metadata": {},
   "source": [
    "# FML"
   ]
  },
  {
   "cell_type": "code",
   "execution_count": 46,
   "metadata": {},
   "outputs": [],
   "source": [
    "import json\n",
    "import flwr as fl\n",
    "\n",
    "from xgboost import XGBClassifier\n",
    "from pathlib import Path\n",
    "\n",
    "tmp_path = Path(\"\")"
   ]
  },
  {
   "cell_type": "code",
   "execution_count": 39,
   "metadata": {},
   "outputs": [],
   "source": [
    "def get_parameters( model ):\n",
    "    tmp_model = Path( tmp_path / 'model_tmp_prms.json' )\n",
    "    model.get_booster().save_model( tmp_model )\n",
    "    with open( tmp_model, 'r' ) as fr:\n",
    "        params = json.load( fr )\n",
    "    return [ params ]\n",
    "\n",
    "def model_from_paramaters( parameters ):\n",
    "    tmp_model = Path( tmp_path / 'model_tmp_fit.json' )\n",
    "    with open( tmp_model, 'w' ) as fw:\n",
    "        json.dump( parameters, fw )\n",
    "    model = XGBClassifier()\n",
    "    model.load_model( tmp_model )\n",
    "    return model"
   ]
  },
  {
   "cell_type": "code",
   "execution_count": 40,
   "metadata": {},
   "outputs": [],
   "source": [
    "class XGBoostClient( fl.client.NumPyClient ):\n",
    "    def __init__( self, model, X_train, y_train, X_test, y_test):\n",
    "        self.model = model\n",
    "        self.X_train, self.y_train = X_train, y_train\n",
    "        self.X_test, self.y_test = X_test, y_test\n",
    "\n",
    "    def get_parameters( self, config ):\n",
    "        return get_parameters( self.model )\n",
    "\n",
    "    def fit( self, parameters, config ):\n",
    "        self.model = model_from_paramaters( parameters )\n",
    "        loss = log_loss( self.y_train, self.model.predict_proba( self.X_train ) )\n",
    "        self.model.fit( self.X_train, self.y_train )\n",
    "        return (\n",
    "            get_parameters( self.model ),\n",
    "            len( self.X_train ),\n",
    "            { 'loss': float( loss ) },\n",
    "        )\n",
    "\n",
    "    def evaluate( self, parameters, config ):\n",
    "        self.model = model_from_paramaters( parameters )\n",
    "        loss = log_loss( self.y_test, self.model.predict_proba( self.X_test ) )\n",
    "        accuracy = float( self.model.score( self.X_test, self.y_test ) )\n",
    "        return float( loss ), len( self.X_test ), { 'loss': float(loss), 'accuracy': accuracy }"
   ]
  },
  {
   "cell_type": "code",
   "execution_count": 43,
   "metadata": {},
   "outputs": [],
   "source": [
    "model = XGBClassifier(\n",
    "     learning_rate    = 0.1,\n",
    "     min_child_weight = 1,\n",
    "     gamma            = 1,\n",
    "     subsample        = 0.8,\n",
    "     colsample_bytree = 0.6,\n",
    "     max_depth        = 4\n",
    ")"
   ]
  },
  {
   "cell_type": "code",
   "execution_count": 44,
   "metadata": {},
   "outputs": [],
   "source": [
    "client = XGBoostClient(model, X_train, y_train, X_test, y_test)"
   ]
  },
  {
   "cell_type": "code",
   "execution_count": 45,
   "metadata": {},
   "outputs": [],
   "source": [
    "client.model.fit(X_train, y_train) # train model\n",
    "accuracy = client.model.score(X_test, y_test) # scores"
   ]
  },
  {
   "cell_type": "code",
   "execution_count": 33,
   "metadata": {},
   "outputs": [],
   "source": [
    "from pathlib import Path\n",
    "import json\n",
    "tmp_path = Path(\"\")"
   ]
  },
  {
   "cell_type": "code",
   "execution_count": 34,
   "metadata": {},
   "outputs": [],
   "source": [
    "def get_evaluate_fn( model, X_test, y_test ):\n",
    "    def evaluate( server_round, parameters ):\n",
    "        model = model_from_paramaters( parameters )\n",
    "        y_pred = model.predict( X_test )\n",
    "        loss = log_loss( y_test, y_pred )\n",
    "        accuracy = model.score( X_test, y_test )\n",
    "        return loss, { 'accuracy': accuracy }\n",
    "    return evaluate\n",
    "\n",
    "def model_from_paramaters( parameters ):\n",
    "    parameters = json.loads( str( parameters.tensors, 'utf-8' ) )\n",
    "    tmp_model = Path( tmp_path ) / 'model_tmp_fit.json'\n",
    "    with open( tmp_model, 'w' ) as fw:\n",
    "        json.dump( parameters, fw )\n",
    "    model = XGBClassifier()\n",
    "    model.load_model( tmp_model )\n",
    "    return model\n",
    "\n",
    "def evaluate_for_xgb( self, server_round, parameters ):\n",
    "    eval_res = self.evaluate_fn( server_round, parameters ) \n",
    "    if eval_res is None:\n",
    "        return None\n",
    "    loss, metrics = eval_res\n",
    "    return loss, metrics\n",
    "\n",
    "def get_parameters( model ):\n",
    "    class ParamWrap( dict ): # Wrapper to propagate the json-like definition of the model\n",
    "        def __init__( self, params ):\n",
    "            dict.__init__( self )\n",
    "            self.tensors = json.dumps( params ).encode( 'utf-8' ) \n",
    "            self.tensor_type = ''\n",
    "            self.parameters = json.dumps( params ).encode( 'utf-8' ) \n",
    "            self.config = {}\n",
    "\n",
    "    tmp_model = Path( tmp_path ) / 'model_tmp_prms.json'\n",
    "    model.get_booster().save_model( tmp_model )\n",
    "    with open( tmp_model, 'r' ) as fr:\n",
    "        params = json.load( fr )\n",
    "\n",
    "    return ParamWrap( params )\n",
    "    "
   ]
  },
  {
   "cell_type": "code",
   "execution_count": 35,
   "metadata": {},
   "outputs": [],
   "source": [
    "fit_round = 2\n",
    "parameters = get_parameters( model )"
   ]
  },
  {
   "cell_type": "code",
   "execution_count": 36,
   "metadata": {},
   "outputs": [],
   "source": [
    "strategy = fl.server.strategy.FedAvg(\n",
    "    evaluate_fn        = get_evaluate_fn( model, X_test, y_test ),\n",
    "    on_fit_config_fn   = fit_round,\n",
    "    initial_parameters = parameters\n",
    ")"
   ]
  },
  {
   "cell_type": "code",
   "execution_count": null,
   "metadata": {},
   "outputs": [],
   "source": [
    "result = fl.simulation.start_simulation(\n",
    "    num_clients=NUM_CLIENTS,\n",
    "    config=fl.server.ServerConfig(num_rounds=num_rounds),\n",
    "    strategy=strategy,\n",
    "    client_fn= lambda i: client_models[int(i)], #client_fn,\n",
    ")"
   ]
  }
 ],
 "metadata": {
  "kernelspec": {
   "display_name": "Python 3.9.6 ('venv': venv)",
   "language": "python",
   "name": "python3"
  },
  "language_info": {
   "codemirror_mode": {
    "name": "ipython",
    "version": 3
   },
   "file_extension": ".py",
   "mimetype": "text/x-python",
   "name": "python",
   "nbconvert_exporter": "python",
   "pygments_lexer": "ipython3",
   "version": "3.9.6"
  },
  "vscode": {
   "interpreter": {
    "hash": "ed2f6b002986ac2c7a6fa49d8fd309335f6e2a10de63f41f25f4c612669896a6"
   }
  }
 },
 "nbformat": 4,
 "nbformat_minor": 2
}
