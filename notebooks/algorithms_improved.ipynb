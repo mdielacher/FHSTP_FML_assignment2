{
 "cells": [
  {
   "cell_type": "markdown",
   "metadata": {},
   "source": [
    "### Comparison between different algorithms without improvements\n",
    "\n",
    "* Load the preprocessed data\n",
    "* Select the desired sample size\n",
    "* Use different ML algorithms\n",
    "* Save results for comparison with basic versions\n",
    "* Compare **all** results via plot"
   ]
  },
  {
   "cell_type": "code",
   "execution_count": 15,
   "metadata": {},
   "outputs": [],
   "source": [
    "# import all libraries used in \"algorithm_comparisons.ipynb\"\n",
    "import numpy as np\n",
    "import pandas as pd\n",
    "import matplotlib.pyplot as plt\n",
    "from sklearn.neural_network import MLPClassifier\n",
    "from xgboost import XGBClassifier\n",
    "from sklearn.ensemble import RandomForestClassifier\n",
    "from sklearn.metrics import accuracy_score, precision_score, recall_score, f1_score, confusion_matrix, classification_report\n",
    "from sklearn.model_selection import GridSearchCV, train_test_split\n",
    "from imblearn.over_sampling import SMOTE\n",
    "from imblearn.pipeline import Pipeline"
   ]
  },
  {
   "cell_type": "code",
   "execution_count": 3,
   "metadata": {},
   "outputs": [],
   "source": [
    "# load \"preprocessed_df.csv\"\n",
    "df = pd.read_csv(\"preprocessed_df.csv\")"
   ]
  },
  {
   "cell_type": "code",
   "execution_count": 4,
   "metadata": {},
   "outputs": [],
   "source": [
    "sample_size = 0.05  # change if necessary\n",
    "\n",
    "# Zufällige Stichprobenauswahl\n",
    "df_sample = df.sample(frac=sample_size, random_state=42)\n",
    "\n",
    "# Teilen Sie die Stichprobe in Trainings- und Testsets\n",
    "X_sample = df_sample.drop('income', axis=1)\n",
    "y_sample = df_sample['income']\n",
    "\n",
    "X_train, X_test, y_train, y_test = train_test_split(X_sample, y_sample, test_size=0.2, random_state=42)"
   ]
  },
  {
   "cell_type": "code",
   "execution_count": 9,
   "metadata": {},
   "outputs": [
    {
     "name": "stdout",
     "output_type": "stream",
     "text": [
      "Fitting 3 folds for each of 16 candidates, totalling 48 fits\n",
      "Beste Parameter: {'mlp__activation': 'relu', 'mlp__hidden_layer_sizes': (50,), 'mlp__learning_rate_init': 0.001, 'smote__sampling_strategy': 0.75}\n",
      "Accuracy: 0.832\n",
      "Precision: 0.6277113767153608\n",
      "Recall: 0.7381572097865695\n",
      "F1-Score: 0.6784688995215311\n"
     ]
    }
   ],
   "source": [
    "# best mlp classifier\n",
    "\n",
    "pipeline = Pipeline([\n",
    "    ('smote', SMOTE(random_state=42)),\n",
    "    ('mlp', MLPClassifier(random_state=42))\n",
    "])\n",
    "\n",
    "# Definition des Gitters von Hyperparametern\n",
    "param_grid = {\n",
    "    'smote__sampling_strategy': [0.75, 1.0],\n",
    "    'mlp__hidden_layer_sizes': [(50,), (100,)],\n",
    "    'mlp__activation': ['relu', 'tanh'],\n",
    "    'mlp__learning_rate_init': [0.001, 0.01]\n",
    "}\n",
    "\n",
    "# Initialisierung von GridSearchCV\n",
    "grid_search = GridSearchCV(estimator=pipeline, param_grid=param_grid, cv=3, scoring='f1', n_jobs=-1, verbose=2)\n",
    "\n",
    "# Ausführen von GridSearchCV\n",
    "grid_search.fit(X_train, y_train)\n",
    "\n",
    "# Beste Parameter anzeigen\n",
    "print(\"Beste Parameter:\", grid_search.best_params_)\n",
    "\n",
    "# Bewertung auf dem Testset\n",
    "best_mlp = grid_search.best_estimator_\n",
    "y_pred_mlp = best_mlp.predict(X_test)\n",
    "\n",
    "# Metriken berechnen\n",
    "accuracy_mlp_improved = accuracy_score(y_test, y_pred_mlp)\n",
    "precision_mlp_improved = precision_score(y_test, y_pred_mlp, zero_division=0)\n",
    "recall_mlp_improved = recall_score(y_test, y_pred_mlp, zero_division=0)\n",
    "f1_mlp_improved = f1_score(y_test, y_pred_mlp, zero_division=0)\n",
    "\n",
    "print(f\"Accuracy: {accuracy}\")\n",
    "print(f\"Precision: {precision}\")\n",
    "print(f\"Recall: {recall}\")\n",
    "print(f\"F1-Score: {f1}\")"
   ]
  },
  {
   "cell_type": "code",
   "execution_count": 13,
   "metadata": {},
   "outputs": [
    {
     "name": "stdout",
     "output_type": "stream",
     "text": [
      "Accuracy: 0.832\n",
      "Precision: 0.6277113767153608\n",
      "Recall: 0.7381572097865695\n",
      "F1-Score: 0.6784688995215311\n"
     ]
    }
   ],
   "source": [
    "# Metriken berechnen\n",
    "accuracy_mlp_improved = accuracy_score(y_test, y_pred_mlp)\n",
    "precision_mlp_improved = precision_score(y_test, y_pred_mlp, zero_division=0)\n",
    "recall_mlp_improved = recall_score(y_test, y_pred_mlp, zero_division=0)\n",
    "f1_mlp_improved = f1_score(y_test, y_pred_mlp, zero_division=0)\n",
    "\n",
    "print(f\"Accuracy: {accuracy_mlp_improved}\")\n",
    "print(f\"Precision: {precision_mlp_improved}\")\n",
    "print(f\"Recall: {recall_mlp_improved}\")\n",
    "print(f\"F1-Score: {f1_mlp_improved}\")"
   ]
  },
  {
   "cell_type": "code",
   "execution_count": 11,
   "metadata": {},
   "outputs": [
    {
     "name": "stdout",
     "output_type": "stream",
     "text": [
      "Fitting 3 folds for each of 160 candidates, totalling 480 fits\n",
      "Beste Parameter: {'smote__sampling_strategy': 0.75, 'xgb__colsample_bytree': 0.8, 'xgb__learning_rate': 0.1, 'xgb__max_depth': 6, 'xgb__n_estimators': 100, 'xgb__subsample': 0.8}\n",
      "Accuracy: 0.832\n",
      "Precision: 0.6277113767153608\n",
      "Recall: 0.7381572097865695\n",
      "F1-Score: 0.6784688995215311\n"
     ]
    }
   ],
   "source": [
    "# best xgboost classifier\n",
    "\n",
    "pipeline = Pipeline([\n",
    "    ('smote', SMOTE(random_state=42)),\n",
    "    ('xgb', XGBClassifier(use_label_encoder=False, eval_metric='logloss', random_state=42))\n",
    "])\n",
    "\n",
    "# Definition des Gitters von Hyperparametern\n",
    "param_grid = {\n",
    "    'smote__sampling_strategy': [0.75, 1.0],\n",
    "    'xgb__n_estimators': [100, 200],\n",
    "    'xgb__max_depth': [3, 6, 10, 15, 20],\n",
    "    'xgb__learning_rate': [0.01, 0.1],\n",
    "    'xgb__subsample': [0.8, 1.0],\n",
    "    'xgb__colsample_bytree': [0.8, 1.0]\n",
    "}\n",
    "\n",
    "# Initialisierung von GridSearchCV\n",
    "grid_search = GridSearchCV(estimator=pipeline, param_grid=param_grid, cv=3, scoring='f1', n_jobs=-1, verbose=2)\n",
    "\n",
    "# Ausführen von GridSearchCV\n",
    "grid_search.fit(X_train, y_train)\n",
    "\n",
    "# Beste Parameter anzeigen\n",
    "print(\"Beste Parameter:\", grid_search.best_params_)\n",
    "\n",
    "# Bewertung auf dem Testset\n",
    "best_xgb = grid_search.best_estimator_\n",
    "y_pred_xgb = best_model.predict(X_test)"
   ]
  },
  {
   "cell_type": "code",
   "execution_count": 12,
   "metadata": {},
   "outputs": [
    {
     "name": "stdout",
     "output_type": "stream",
     "text": [
      "Accuracy: 0.832\n",
      "Precision: 0.6277113767153608\n",
      "Recall: 0.7381572097865695\n",
      "F1-Score: 0.6784688995215311\n"
     ]
    }
   ],
   "source": [
    "# Metriken berechnen\n",
    "accuracy_xgb_improved = accuracy_score(y_test, y_pred_xgb)\n",
    "precision_xgb_improved = precision_score(y_test, y_pred_xgb, zero_division=0)\n",
    "recall_xgb_improved = recall_score(y_test, y_pred_xgb, zero_division=0)\n",
    "f1_xgb_improved = f1_score(y_test, y_pred_xgb, zero_division=0)\n",
    "\n",
    "print(f\"Accuracy: {accuracy_xgb_improved}\")\n",
    "print(f\"Precision: {precision_xgb_improved}\")\n",
    "print(f\"Recall: {recall_xgb_improved}\")\n",
    "print(f\"F1-Score: {f1_xgb_improved}\")"
   ]
  },
  {
   "cell_type": "code",
   "execution_count": 16,
   "metadata": {},
   "outputs": [
    {
     "name": "stdout",
     "output_type": "stream",
     "text": [
      "Fitting 3 folds for each of 128 candidates, totalling 384 fits\n",
      "Beste Parameter: {'rf__max_depth': 20, 'rf__max_features': 'log2', 'rf__min_samples_leaf': 2, 'rf__min_samples_split': 5, 'rf__n_estimators': 200, 'smote__sampling_strategy': 0.75}\n"
     ]
    }
   ],
   "source": [
    "# best random forest\n",
    "pipeline = Pipeline([\n",
    "    ('smote', SMOTE(random_state=42)),\n",
    "    ('rf', RandomForestClassifier(random_state=42))\n",
    "])\n",
    "\n",
    "# Definition des Gitters von Hyperparametern\n",
    "param_grid = {\n",
    "    'smote__sampling_strategy': [0.75, 1.0],\n",
    "    'rf__n_estimators': [100, 200],\n",
    "    'rf__max_depth': [5, 10, 20, None],\n",
    "    'rf__min_samples_split': [2, 5],\n",
    "    'rf__min_samples_leaf': [1, 2],\n",
    "    'rf__max_features': ['sqrt', 'log2']\n",
    "}\n",
    "\n",
    "# Initialisierung von GridSearchCV\n",
    "grid_search = GridSearchCV(estimator=pipeline, param_grid=param_grid, cv=3, scoring='f1', n_jobs=-1, verbose=2)\n",
    "\n",
    "# Ausführen von GridSearchCV\n",
    "grid_search.fit(X_train, y_train)\n",
    "\n",
    "# Beste Parameter anzeigen\n",
    "print(\"Beste Parameter:\", grid_search.best_params_)\n",
    "\n",
    "# Bewertung auf dem Testset\n",
    "best_rf = grid_search.best_estimator_\n",
    "y_pred_rf = best_rf.predict(X_test)"
   ]
  },
  {
   "cell_type": "code",
   "execution_count": 17,
   "metadata": {},
   "outputs": [
    {
     "name": "stdout",
     "output_type": "stream",
     "text": [
      "Accuracy: 0.838\n",
      "Precision: 0.6349892008639308\n",
      "Recall: 0.7652264445601249\n",
      "F1-Score: 0.6940509915014164\n"
     ]
    }
   ],
   "source": [
    "# Metriken berechnen\n",
    "accuracy_rf_improved = accuracy_score(y_test, y_pred_rf)\n",
    "precision_rf_improved = precision_score(y_test, y_pred_rf, zero_division=0)\n",
    "recall_rf_improved = recall_score(y_test, y_pred_rf, zero_division=0)\n",
    "f1_rf_improved = f1_score(y_test, y_pred_rf, zero_division=0)\n",
    "\n",
    "print(f\"Accuracy: {accuracy_rf_improved}\")\n",
    "print(f\"Precision: {precision_rf_improved}\")\n",
    "print(f\"Recall: {recall_rf_improved}\")\n",
    "print(f\"F1-Score: {f1_rf_improved}\")"
   ]
  }
 ],
 "metadata": {
  "kernelspec": {
   "display_name": "fml",
   "language": "python",
   "name": "python3"
  },
  "language_info": {
   "codemirror_mode": {
    "name": "ipython",
    "version": 3
   },
   "file_extension": ".py",
   "mimetype": "text/x-python",
   "name": "python",
   "nbconvert_exporter": "python",
   "pygments_lexer": "ipython3",
   "version": "3.11.7"
  }
 },
 "nbformat": 4,
 "nbformat_minor": 2
}
